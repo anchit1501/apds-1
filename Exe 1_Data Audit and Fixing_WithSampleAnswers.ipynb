{
 "cells": [
  {
   "cell_type": "markdown",
   "metadata": {},
   "source": [
    "# Data Audit and Fixing\n",
    "\n",
    "In this exercise, we will go through a list of tasks with different examples to audit data and fix data problems."
   ]
  },
  {
   "cell_type": "code",
   "execution_count": 1,
   "metadata": {},
   "outputs": [],
   "source": [
    "## importing libaries\n",
    "import numpy as np #linear algebra\n",
    "import pandas as pd #datapreprocessing, CSV file I/O\n",
    "import seaborn as sns #for plotting graphs\n",
    "import matplotlib.pyplot as plt\n",
    "import re\n"
   ]
  },
  {
   "cell_type": "markdown",
   "metadata": {},
   "source": [
    "## Task 1: Initial Auditing\n",
    "\n",
    "In this task, you are required to use graphical and non-graphical tools to conduct initial auditing of a dataset. \n",
    "The example dataset that we use here is the KC Housing Dataset.\n",
    "\n",
    "This dataset contains house sale prices for King County, which includes Seattle. It includes homes sold between May 2014 and May 2015. It has many characteristics of learning, and the original dataset can be downloaded from [here](https://www.kaggle.com/harlfoxem/housesalesprediction).\n",
    "\n",
    "In this exercise, we have manually introduced some errors into this dataset. Before you  start, please make sure you have the 'data' folder in the same folder of this exercise. For Task 1, we will use the following data file inside the data folder:\n",
    "- kc_house.csv\n",
    "\n",
    "You should refer to [here](https://www.kaggle.com/harlfoxem/housesalesprediction) for the detailed description of each column.  "
   ]
  },
  {
   "cell_type": "markdown",
   "metadata": {},
   "source": [
    "### Task 1.1 Load Data into a Pandas Dataframe"
   ]
  },
  {
   "cell_type": "code",
   "execution_count": 2,
   "metadata": {},
   "outputs": [
    {
     "name": "stdout",
     "output_type": "stream",
     "text": [
      "(9979, 19)\n"
     ]
    },
    {
     "data": {
      "text/html": [
       "<div>\n",
       "<style scoped>\n",
       "    .dataframe tbody tr th:only-of-type {\n",
       "        vertical-align: middle;\n",
       "    }\n",
       "\n",
       "    .dataframe tbody tr th {\n",
       "        vertical-align: top;\n",
       "    }\n",
       "\n",
       "    .dataframe thead th {\n",
       "        text-align: right;\n",
       "    }\n",
       "</style>\n",
       "<table border=\"1\" class=\"dataframe\">\n",
       "  <thead>\n",
       "    <tr style=\"text-align: right;\">\n",
       "      <th></th>\n",
       "      <th>id</th>\n",
       "      <th>date</th>\n",
       "      <th>price</th>\n",
       "      <th>bedrooms</th>\n",
       "      <th>bathrooms</th>\n",
       "      <th>sqft_living</th>\n",
       "      <th>sqft_lot</th>\n",
       "      <th>floors</th>\n",
       "      <th>waterfront</th>\n",
       "      <th>view</th>\n",
       "      <th>condition</th>\n",
       "      <th>grade</th>\n",
       "      <th>sqft_above</th>\n",
       "      <th>sqft_basement</th>\n",
       "      <th>yr_built</th>\n",
       "      <th>yr_renovated</th>\n",
       "      <th>zipcode</th>\n",
       "      <th>lat</th>\n",
       "      <th>long</th>\n",
       "    </tr>\n",
       "  </thead>\n",
       "  <tbody>\n",
       "    <tr>\n",
       "      <th>0</th>\n",
       "      <td>5437400630</td>\n",
       "      <td>20141016T000000</td>\n",
       "      <td>625000.0</td>\n",
       "      <td>4</td>\n",
       "      <td>2.25</td>\n",
       "      <td>1920</td>\n",
       "      <td>8259</td>\n",
       "      <td>2.0</td>\n",
       "      <td>0</td>\n",
       "      <td>0</td>\n",
       "      <td>4</td>\n",
       "      <td>8</td>\n",
       "      <td>1920</td>\n",
       "      <td>0</td>\n",
       "      <td>1979</td>\n",
       "      <td>0</td>\n",
       "      <td>98027</td>\n",
       "      <td>47.5616</td>\n",
       "      <td>-122.088</td>\n",
       "    </tr>\n",
       "    <tr>\n",
       "      <th>1</th>\n",
       "      <td>3999300290</td>\n",
       "      <td>20141016T000000</td>\n",
       "      <td>850000.0</td>\n",
       "      <td>3</td>\n",
       "      <td>3.5</td>\n",
       "      <td>2620</td>\n",
       "      <td>11148</td>\n",
       "      <td>2.0</td>\n",
       "      <td>0</td>\n",
       "      <td>4</td>\n",
       "      <td>4</td>\n",
       "      <td>9</td>\n",
       "      <td>2060</td>\n",
       "      <td>560</td>\n",
       "      <td>1977</td>\n",
       "      <td>0</td>\n",
       "      <td>98008</td>\n",
       "      <td>47.5845</td>\n",
       "      <td>-122.115</td>\n",
       "    </tr>\n",
       "    <tr>\n",
       "      <th>2</th>\n",
       "      <td>2525059134</td>\n",
       "      <td>20141016T000000</td>\n",
       "      <td>500000.0</td>\n",
       "      <td>2</td>\n",
       "      <td>1.5</td>\n",
       "      <td>1760</td>\n",
       "      <td>12000</td>\n",
       "      <td>1.0</td>\n",
       "      <td>0</td>\n",
       "      <td>0</td>\n",
       "      <td>4</td>\n",
       "      <td>7</td>\n",
       "      <td>1760</td>\n",
       "      <td>0</td>\n",
       "      <td>1964</td>\n",
       "      <td>0</td>\n",
       "      <td>98052</td>\n",
       "      <td>47.6288</td>\n",
       "      <td>-122.109</td>\n",
       "    </tr>\n",
       "    <tr>\n",
       "      <th>3</th>\n",
       "      <td>1862400285</td>\n",
       "      <td>20141016T000000</td>\n",
       "      <td>375000.0</td>\n",
       "      <td>3</td>\n",
       "      <td>1.0</td>\n",
       "      <td>1200</td>\n",
       "      <td>5404</td>\n",
       "      <td>1.0</td>\n",
       "      <td>0</td>\n",
       "      <td>0</td>\n",
       "      <td>3</td>\n",
       "      <td>6</td>\n",
       "      <td>1200</td>\n",
       "      <td>0</td>\n",
       "      <td>1937</td>\n",
       "      <td>0</td>\n",
       "      <td>98117</td>\n",
       "      <td>47.6969</td>\n",
       "      <td>-122.368</td>\n",
       "    </tr>\n",
       "    <tr>\n",
       "      <th>4</th>\n",
       "      <td>7199320190</td>\n",
       "      <td>20141016T000000</td>\n",
       "      <td>618000.0</td>\n",
       "      <td>4</td>\n",
       "      <td>2.25</td>\n",
       "      <td>2470</td>\n",
       "      <td>7350</td>\n",
       "      <td>1.0</td>\n",
       "      <td>0</td>\n",
       "      <td>0</td>\n",
       "      <td>3</td>\n",
       "      <td>7</td>\n",
       "      <td>1600</td>\n",
       "      <td>870</td>\n",
       "      <td>1978</td>\n",
       "      <td>0</td>\n",
       "      <td>98052</td>\n",
       "      <td>47.6936</td>\n",
       "      <td>-122.128</td>\n",
       "    </tr>\n",
       "  </tbody>\n",
       "</table>\n",
       "</div>"
      ],
      "text/plain": [
       "           id             date     price  bedrooms bathrooms  sqft_living  \\\n",
       "0  5437400630  20141016T000000  625000.0         4      2.25         1920   \n",
       "1  3999300290  20141016T000000  850000.0         3       3.5         2620   \n",
       "2  2525059134  20141016T000000  500000.0         2       1.5         1760   \n",
       "3  1862400285  20141016T000000  375000.0         3       1.0         1200   \n",
       "4  7199320190  20141016T000000  618000.0         4      2.25         2470   \n",
       "\n",
       "   sqft_lot  floors  waterfront  view  condition  grade  sqft_above  \\\n",
       "0      8259     2.0           0     0          4      8        1920   \n",
       "1     11148     2.0           0     4          4      9        2060   \n",
       "2     12000     1.0           0     0          4      7        1760   \n",
       "3      5404     1.0           0     0          3      6        1200   \n",
       "4      7350     1.0           0     0          3      7        1600   \n",
       "\n",
       "   sqft_basement  yr_built  yr_renovated  zipcode      lat     long  \n",
       "0              0      1979             0    98027  47.5616 -122.088  \n",
       "1            560      1977             0    98008  47.5845 -122.115  \n",
       "2              0      1964             0    98052  47.6288 -122.109  \n",
       "3              0      1937             0    98117  47.6969 -122.368  \n",
       "4            870      1978             0    98052  47.6936 -122.128  "
      ]
     },
     "execution_count": 2,
     "metadata": {},
     "output_type": "execute_result"
    }
   ],
   "source": [
    "df = pd.read_csv('data/kc_house.csv')\n",
    "print(df.shape) # number of rows and columns\n",
    "df.head()"
   ]
  },
  {
   "cell_type": "markdown",
   "metadata": {},
   "source": [
    "### Task 1.2 Quick Overview of the Dataset"
   ]
  },
  {
   "cell_type": "markdown",
   "metadata": {},
   "source": [
    "Let's get a quick overview of the dataset:"
   ]
  },
  {
   "cell_type": "code",
   "execution_count": 3,
   "metadata": {},
   "outputs": [
    {
     "name": "stdout",
     "output_type": "stream",
     "text": [
      "<class 'pandas.core.frame.DataFrame'>\n",
      "RangeIndex: 9979 entries, 0 to 9978\n",
      "Data columns (total 19 columns):\n",
      " #   Column         Non-Null Count  Dtype  \n",
      "---  ------         --------------  -----  \n",
      " 0   id             9979 non-null   int64  \n",
      " 1   date           9979 non-null   object \n",
      " 2   price          9979 non-null   float64\n",
      " 3   bedrooms       9979 non-null   int64  \n",
      " 4   bathrooms      9828 non-null   object \n",
      " 5   sqft_living    9979 non-null   int64  \n",
      " 6   sqft_lot       9979 non-null   int64  \n",
      " 7   floors         9979 non-null   float64\n",
      " 8   waterfront     9979 non-null   int64  \n",
      " 9   view           9979 non-null   int64  \n",
      " 10  condition      9979 non-null   int64  \n",
      " 11  grade          9979 non-null   int64  \n",
      " 12  sqft_above     9979 non-null   int64  \n",
      " 13  sqft_basement  9979 non-null   int64  \n",
      " 14  yr_built       9979 non-null   int64  \n",
      " 15  yr_renovated   9979 non-null   int64  \n",
      " 16  zipcode        9979 non-null   int64  \n",
      " 17  lat            9979 non-null   float64\n",
      " 18  long           9979 non-null   float64\n",
      "dtypes: float64(4), int64(13), object(2)\n",
      "memory usage: 1.4+ MB\n"
     ]
    }
   ],
   "source": [
    "df.info()"
   ]
  },
  {
   "cell_type": "code",
   "execution_count": 4,
   "metadata": {},
   "outputs": [
    {
     "data": {
      "text/html": [
       "<div>\n",
       "<style scoped>\n",
       "    .dataframe tbody tr th:only-of-type {\n",
       "        vertical-align: middle;\n",
       "    }\n",
       "\n",
       "    .dataframe tbody tr th {\n",
       "        vertical-align: top;\n",
       "    }\n",
       "\n",
       "    .dataframe thead th {\n",
       "        text-align: right;\n",
       "    }\n",
       "</style>\n",
       "<table border=\"1\" class=\"dataframe\">\n",
       "  <thead>\n",
       "    <tr style=\"text-align: right;\">\n",
       "      <th></th>\n",
       "      <th>id</th>\n",
       "      <th>price</th>\n",
       "      <th>bedrooms</th>\n",
       "      <th>sqft_living</th>\n",
       "      <th>sqft_lot</th>\n",
       "      <th>floors</th>\n",
       "      <th>waterfront</th>\n",
       "      <th>view</th>\n",
       "      <th>condition</th>\n",
       "      <th>grade</th>\n",
       "      <th>sqft_above</th>\n",
       "      <th>sqft_basement</th>\n",
       "      <th>yr_built</th>\n",
       "      <th>yr_renovated</th>\n",
       "      <th>zipcode</th>\n",
       "      <th>lat</th>\n",
       "      <th>long</th>\n",
       "    </tr>\n",
       "  </thead>\n",
       "  <tbody>\n",
       "    <tr>\n",
       "      <th>count</th>\n",
       "      <td>9.979000e+03</td>\n",
       "      <td>9.979000e+03</td>\n",
       "      <td>9979.000000</td>\n",
       "      <td>9979.000000</td>\n",
       "      <td>9.979000e+03</td>\n",
       "      <td>9979.000000</td>\n",
       "      <td>9979.000000</td>\n",
       "      <td>9979.000000</td>\n",
       "      <td>9979.000000</td>\n",
       "      <td>9979.000000</td>\n",
       "      <td>9979.000000</td>\n",
       "      <td>9979.000000</td>\n",
       "      <td>9979.000000</td>\n",
       "      <td>9979.000000</td>\n",
       "      <td>9979.000000</td>\n",
       "      <td>9979.000000</td>\n",
       "      <td>9979.000000</td>\n",
       "    </tr>\n",
       "    <tr>\n",
       "      <th>mean</th>\n",
       "      <td>4.597862e+09</td>\n",
       "      <td>4.976163e+05</td>\n",
       "      <td>3.356749</td>\n",
       "      <td>2025.471089</td>\n",
       "      <td>1.548811e+04</td>\n",
       "      <td>1.487774</td>\n",
       "      <td>0.002405</td>\n",
       "      <td>0.194709</td>\n",
       "      <td>3.373384</td>\n",
       "      <td>7.593947</td>\n",
       "      <td>1751.482413</td>\n",
       "      <td>273.988676</td>\n",
       "      <td>1972.072853</td>\n",
       "      <td>67.961018</td>\n",
       "      <td>98078.445936</td>\n",
       "      <td>47.555247</td>\n",
       "      <td>-122.212535</td>\n",
       "    </tr>\n",
       "    <tr>\n",
       "      <th>std</th>\n",
       "      <td>2.879295e+09</td>\n",
       "      <td>2.531411e+05</td>\n",
       "      <td>1.045371</td>\n",
       "      <td>854.999593</td>\n",
       "      <td>4.300988e+04</td>\n",
       "      <td>0.540827</td>\n",
       "      <td>0.048985</td>\n",
       "      <td>0.679473</td>\n",
       "      <td>0.623002</td>\n",
       "      <td>1.112741</td>\n",
       "      <td>794.315316</td>\n",
       "      <td>418.520443</td>\n",
       "      <td>28.848934</td>\n",
       "      <td>361.886020</td>\n",
       "      <td>53.447859</td>\n",
       "      <td>0.142292</td>\n",
       "      <td>0.140854</td>\n",
       "    </tr>\n",
       "    <tr>\n",
       "      <th>min</th>\n",
       "      <td>1.000102e+06</td>\n",
       "      <td>8.995000e+04</td>\n",
       "      <td>1.000000</td>\n",
       "      <td>390.000000</td>\n",
       "      <td>5.200000e+02</td>\n",
       "      <td>1.000000</td>\n",
       "      <td>0.000000</td>\n",
       "      <td>0.000000</td>\n",
       "      <td>1.000000</td>\n",
       "      <td>4.000000</td>\n",
       "      <td>390.000000</td>\n",
       "      <td>0.000000</td>\n",
       "      <td>1900.000000</td>\n",
       "      <td>0.000000</td>\n",
       "      <td>98001.000000</td>\n",
       "      <td>47.162200</td>\n",
       "      <td>-122.519000</td>\n",
       "    </tr>\n",
       "    <tr>\n",
       "      <th>25%</th>\n",
       "      <td>2.126049e+09</td>\n",
       "      <td>3.200000e+05</td>\n",
       "      <td>3.000000</td>\n",
       "      <td>1410.000000</td>\n",
       "      <td>5.040000e+03</td>\n",
       "      <td>1.000000</td>\n",
       "      <td>0.000000</td>\n",
       "      <td>0.000000</td>\n",
       "      <td>3.000000</td>\n",
       "      <td>7.000000</td>\n",
       "      <td>1180.000000</td>\n",
       "      <td>0.000000</td>\n",
       "      <td>1953.000000</td>\n",
       "      <td>0.000000</td>\n",
       "      <td>98033.000000</td>\n",
       "      <td>47.456700</td>\n",
       "      <td>-122.329000</td>\n",
       "    </tr>\n",
       "    <tr>\n",
       "      <th>50%</th>\n",
       "      <td>3.905080e+09</td>\n",
       "      <td>4.399500e+05</td>\n",
       "      <td>3.000000</td>\n",
       "      <td>1870.000000</td>\n",
       "      <td>7.515000e+03</td>\n",
       "      <td>1.000000</td>\n",
       "      <td>0.000000</td>\n",
       "      <td>0.000000</td>\n",
       "      <td>3.000000</td>\n",
       "      <td>7.000000</td>\n",
       "      <td>1530.000000</td>\n",
       "      <td>0.000000</td>\n",
       "      <td>1976.000000</td>\n",
       "      <td>0.000000</td>\n",
       "      <td>98065.000000</td>\n",
       "      <td>47.563500</td>\n",
       "      <td>-122.228000</td>\n",
       "    </tr>\n",
       "    <tr>\n",
       "      <th>75%</th>\n",
       "      <td>7.366600e+09</td>\n",
       "      <td>6.096750e+05</td>\n",
       "      <td>4.000000</td>\n",
       "      <td>2481.500000</td>\n",
       "      <td>1.036550e+04</td>\n",
       "      <td>2.000000</td>\n",
       "      <td>0.000000</td>\n",
       "      <td>0.000000</td>\n",
       "      <td>4.000000</td>\n",
       "      <td>8.000000</td>\n",
       "      <td>2160.000000</td>\n",
       "      <td>520.000000</td>\n",
       "      <td>1998.000000</td>\n",
       "      <td>0.000000</td>\n",
       "      <td>98118.000000</td>\n",
       "      <td>47.679900</td>\n",
       "      <td>-122.122000</td>\n",
       "    </tr>\n",
       "    <tr>\n",
       "      <th>max</th>\n",
       "      <td>9.900000e+09</td>\n",
       "      <td>2.700000e+06</td>\n",
       "      <td>48.000000</td>\n",
       "      <td>7880.000000</td>\n",
       "      <td>1.164794e+06</td>\n",
       "      <td>3.500000</td>\n",
       "      <td>1.000000</td>\n",
       "      <td>4.000000</td>\n",
       "      <td>5.000000</td>\n",
       "      <td>13.000000</td>\n",
       "      <td>7880.000000</td>\n",
       "      <td>2610.000000</td>\n",
       "      <td>2015.000000</td>\n",
       "      <td>2015.000000</td>\n",
       "      <td>98199.000000</td>\n",
       "      <td>47.777600</td>\n",
       "      <td>-121.315000</td>\n",
       "    </tr>\n",
       "  </tbody>\n",
       "</table>\n",
       "</div>"
      ],
      "text/plain": [
       "                 id         price     bedrooms  sqft_living      sqft_lot  \\\n",
       "count  9.979000e+03  9.979000e+03  9979.000000  9979.000000  9.979000e+03   \n",
       "mean   4.597862e+09  4.976163e+05     3.356749  2025.471089  1.548811e+04   \n",
       "std    2.879295e+09  2.531411e+05     1.045371   854.999593  4.300988e+04   \n",
       "min    1.000102e+06  8.995000e+04     1.000000   390.000000  5.200000e+02   \n",
       "25%    2.126049e+09  3.200000e+05     3.000000  1410.000000  5.040000e+03   \n",
       "50%    3.905080e+09  4.399500e+05     3.000000  1870.000000  7.515000e+03   \n",
       "75%    7.366600e+09  6.096750e+05     4.000000  2481.500000  1.036550e+04   \n",
       "max    9.900000e+09  2.700000e+06    48.000000  7880.000000  1.164794e+06   \n",
       "\n",
       "            floors   waterfront         view    condition        grade  \\\n",
       "count  9979.000000  9979.000000  9979.000000  9979.000000  9979.000000   \n",
       "mean      1.487774     0.002405     0.194709     3.373384     7.593947   \n",
       "std       0.540827     0.048985     0.679473     0.623002     1.112741   \n",
       "min       1.000000     0.000000     0.000000     1.000000     4.000000   \n",
       "25%       1.000000     0.000000     0.000000     3.000000     7.000000   \n",
       "50%       1.000000     0.000000     0.000000     3.000000     7.000000   \n",
       "75%       2.000000     0.000000     0.000000     4.000000     8.000000   \n",
       "max       3.500000     1.000000     4.000000     5.000000    13.000000   \n",
       "\n",
       "        sqft_above  sqft_basement     yr_built  yr_renovated       zipcode  \\\n",
       "count  9979.000000    9979.000000  9979.000000   9979.000000   9979.000000   \n",
       "mean   1751.482413     273.988676  1972.072853     67.961018  98078.445936   \n",
       "std     794.315316     418.520443    28.848934    361.886020     53.447859   \n",
       "min     390.000000       0.000000  1900.000000      0.000000  98001.000000   \n",
       "25%    1180.000000       0.000000  1953.000000      0.000000  98033.000000   \n",
       "50%    1530.000000       0.000000  1976.000000      0.000000  98065.000000   \n",
       "75%    2160.000000     520.000000  1998.000000      0.000000  98118.000000   \n",
       "max    7880.000000    2610.000000  2015.000000   2015.000000  98199.000000   \n",
       "\n",
       "               lat         long  \n",
       "count  9979.000000  9979.000000  \n",
       "mean     47.555247  -122.212535  \n",
       "std       0.142292     0.140854  \n",
       "min      47.162200  -122.519000  \n",
       "25%      47.456700  -122.329000  \n",
       "50%      47.563500  -122.228000  \n",
       "75%      47.679900  -122.122000  \n",
       "max      47.777600  -121.315000  "
      ]
     },
     "execution_count": 4,
     "metadata": {},
     "output_type": "execute_result"
    }
   ],
   "source": [
    "df.describe()"
   ]
  },
  {
   "cell_type": "markdown",
   "metadata": {},
   "source": [
    "Oh, most are numeric columns."
   ]
  },
  {
   "cell_type": "markdown",
   "metadata": {},
   "source": [
    "### Task 1.3 Checking Missingness\n",
    "See whether there are any missingness in columns:"
   ]
  },
  {
   "cell_type": "code",
   "execution_count": 5,
   "metadata": {},
   "outputs": [
    {
     "data": {
      "text/plain": [
       "id                 0\n",
       "date               0\n",
       "price              0\n",
       "bedrooms           0\n",
       "bathrooms        151\n",
       "sqft_living        0\n",
       "sqft_lot           0\n",
       "floors             0\n",
       "waterfront         0\n",
       "view               0\n",
       "condition          0\n",
       "grade              0\n",
       "sqft_above         0\n",
       "sqft_basement      0\n",
       "yr_built           0\n",
       "yr_renovated       0\n",
       "zipcode            0\n",
       "lat                0\n",
       "long               0\n",
       "dtype: int64"
      ]
     },
     "execution_count": 5,
     "metadata": {},
     "output_type": "execute_result"
    }
   ],
   "source": [
    "df.isnull().sum()"
   ]
  },
  {
   "cell_type": "markdown",
   "metadata": {},
   "source": [
    "Oh, we can see that the column `bathrooms` has 151 missing values."
   ]
  },
  {
   "cell_type": "markdown",
   "metadata": {},
   "source": [
    "### Task 1.4 Domain Values"
   ]
  },
  {
   "cell_type": "markdown",
   "metadata": {},
   "source": [
    "Let's check the value domain of all the columns. First, let's start with the column `bedrooms`."
   ]
  },
  {
   "cell_type": "code",
   "execution_count": 6,
   "metadata": {},
   "outputs": [
    {
     "data": {
      "text/plain": [
       "3     4631\n",
       "4     3110\n",
       "2     1305\n",
       "5      722\n",
       "6      126\n",
       "1       82\n",
       "33       1\n",
       "25       1\n",
       "48       1\n",
       "Name: bedrooms, dtype: int64"
      ]
     },
     "execution_count": 6,
     "metadata": {},
     "output_type": "execute_result"
    }
   ],
   "source": [
    "df['bedrooms'].value_counts()"
   ]
  },
  {
   "cell_type": "markdown",
   "metadata": {},
   "source": [
    "Majority has 2-4 bedrooms. Some luxury ones have 5-6 and one has 25, one has 33 and one has 48 bedrooms:D ... You can also do this with a simple count plot:"
   ]
  },
  {
   "cell_type": "code",
   "execution_count": 7,
   "metadata": {},
   "outputs": [
    {
     "name": "stderr",
     "output_type": "stream",
     "text": [
      "C:\\Users\\E104857\\Anaconda3\\envs\\Python36\\lib\\site-packages\\seaborn\\_decorators.py:43: FutureWarning: Pass the following variable as a keyword arg: x. From version 0.12, the only valid positional argument will be `data`, and passing other arguments without an explicit keyword will result in an error or misinterpretation.\n",
      "  FutureWarning\n"
     ]
    },
    {
     "data": {
      "text/plain": [
       "<AxesSubplot:xlabel='bedrooms', ylabel='count'>"
      ]
     },
     "execution_count": 7,
     "metadata": {},
     "output_type": "execute_result"
    },
    {
     "data": {
      "image/png": "[encoded data removed]",
      "text/plain": [
       "<Figure size 432x288 with 1 Axes>"
      ]
     },
     "metadata": {
      "needs_background": "light"
     },
     "output_type": "display_data"
    }
   ],
   "source": [
    "sns.countplot(df.bedrooms,order=df['bedrooms'].value_counts().index)"
   ]
  },
  {
   "cell_type": "code",
   "execution_count": 8,
   "metadata": {},
   "outputs": [
    {
     "data": {
      "text/plain": [
       "2.5     2423\n",
       "1.0     1789\n",
       "1.75    1407\n",
       "2.25     959\n",
       "2.0      888\n",
       "1.5      675\n",
       "2.75     511\n",
       "3.5      321\n",
       "3.0      311\n",
       "3.25     225\n",
       "-         97\n",
       "4.0       58\n",
       "3.75      56\n",
       "4.5       34\n",
       "0.75      28\n",
       "4.25      26\n",
       "5.0        5\n",
       "4.75       4\n",
       "1.25       3\n",
       "0.5        2\n",
       "5.25       2\n",
       "5.75       1\n",
       "6.5        1\n",
       "5.5        1\n",
       "6.0        1\n",
       "Name: bathrooms, dtype: int64"
      ]
     },
     "execution_count": 8,
     "metadata": {},
     "output_type": "execute_result"
    }
   ],
   "source": [
    "df['bathrooms'].value_counts() # check the value domain of the column bathrooms"
   ]
  },
  {
   "cell_type": "markdown",
   "metadata": {},
   "source": [
    "Oh.... the unit of bathrooms looks interesting, it has an increment of 0.25. There are also 97 records with a value '-'. "
   ]
  },
  {
   "cell_type": "code",
   "execution_count": 9,
   "metadata": {},
   "outputs": [
    {
     "data": {
      "text/plain": [
       "7     4336\n",
       "8     2804\n",
       "9     1138\n",
       "6      961\n",
       "10     457\n",
       "11     136\n",
       "5      107\n",
       "12      25\n",
       "4       12\n",
       "13       3\n",
       "Name: grade, dtype: int64"
      ]
     },
     "execution_count": 9,
     "metadata": {},
     "output_type": "execute_result"
    }
   ],
   "source": [
    "df['grade'].value_counts() # check the value domain of the column grade"
   ]
  },
  {
   "cell_type": "code",
   "execution_count": 10,
   "metadata": {},
   "outputs": [
    {
     "data": {
      "text/plain": [
       "3    6704\n",
       "4    2528\n",
       "5     652\n",
       "2      84\n",
       "1      11\n",
       "Name: condition, dtype: int64"
      ]
     },
     "execution_count": 10,
     "metadata": {},
     "output_type": "execute_result"
    }
   ],
   "source": [
    "df['condition'].value_counts() # check the value domain of the column condition"
   ]
  },
  {
   "cell_type": "code",
   "execution_count": 11,
   "metadata": {},
   "outputs": [
    {
     "data": {
      "text/plain": [
       "1.0    5020\n",
       "2.0    3783\n",
       "1.5     827\n",
       "3.0     289\n",
       "2.5      57\n",
       "3.5       3\n",
       "Name: floors, dtype: int64"
      ]
     },
     "execution_count": 11,
     "metadata": {},
     "output_type": "execute_result"
    }
   ],
   "source": [
    "df['floors'].value_counts() # check the value domain of the column floors"
   ]
  },
  {
   "cell_type": "code",
   "execution_count": 12,
   "metadata": {},
   "outputs": [
    {
     "data": {
      "text/plain": [
       "0    9116\n",
       "2     438\n",
       "3     201\n",
       "1     144\n",
       "4      80\n",
       "Name: view, dtype: int64"
      ]
     },
     "execution_count": 12,
     "metadata": {},
     "output_type": "execute_result"
    }
   ],
   "source": [
    "df['view'].value_counts() # check the value domain of the column view"
   ]
  },
  {
   "cell_type": "code",
   "execution_count": 13,
   "metadata": {},
   "outputs": [
    {
     "data": {
      "text/plain": [
       "0    9955\n",
       "1      24\n",
       "Name: waterfront, dtype: int64"
      ]
     },
     "execution_count": 13,
     "metadata": {},
     "output_type": "execute_result"
    }
   ],
   "source": [
    "df['waterfront'].value_counts() # check the value domain of the column waterfront"
   ]
  },
  {
   "cell_type": "markdown",
   "metadata": {},
   "source": [
    "### Task 1.5 Checking Distributions\n",
    "Now let's check the distribution of the columns `sqft_living`, `sqft_lot`, `sqft_above` and `sqft_basement`."
   ]
  },
  {
   "cell_type": "code",
   "execution_count": 14,
   "metadata": {},
   "outputs": [
    {
     "data": {
      "text/plain": [
       "array([[<AxesSubplot:title={'center':'sqft_living'}>]], dtype=object)"
      ]
     },
     "execution_count": 14,
     "metadata": {},
     "output_type": "execute_result"
    },
    {
     "data": {
      "image/png": "[encoded data removed]",
      "text/plain": [
       "<Figure size 432x288 with 1 Axes>"
      ]
     },
     "metadata": {
      "needs_background": "light"
     },
     "output_type": "display_data"
    }
   ],
   "source": [
    "df.hist('sqft_living', bins=50, alpha=0.5)"
   ]
  },
  {
   "cell_type": "markdown",
   "metadata": {},
   "source": [
    "We can also use a distribution plot to see if the data is skewed or not:"
   ]
  },
  {
   "cell_type": "code",
   "execution_count": 15,
   "metadata": {},
   "outputs": [
    {
     "data": {
      "text/plain": [
       "<seaborn.axisgrid.FacetGrid at 0x1df1a1680f0>"
      ]
     },
     "execution_count": 15,
     "metadata": {},
     "output_type": "execute_result"
    },
    {
     "data": {
      "image/png": "[encoded data removed]",
      "text/plain": [
       "<Figure size 360x360 with 1 Axes>"
      ]
     },
     "metadata": {
      "needs_background": "light"
     },
     "output_type": "display_data"
    }
   ],
   "source": [
    "sns.displot(data=df, x=\"sqft_living\",kde=True)"
   ]
  },
  {
   "cell_type": "markdown",
   "metadata": {},
   "source": [
    "Do the same for the all 4 columns:"
   ]
  },
  {
   "cell_type": "code",
   "execution_count": 16,
   "metadata": {},
   "outputs": [
    {
     "data": {
      "image/png": "[encoded data removed]",
      "text/plain": [
       "<Figure size 360x360 with 1 Axes>"
      ]
     },
     "metadata": {
      "needs_background": "light"
     },
     "output_type": "display_data"
    },
    {
     "data": {
      "image/png": "[encoded data removed]",
      "text/plain": [
       "<Figure size 360x360 with 1 Axes>"
      ]
     },
     "metadata": {
      "needs_background": "light"
     },
     "output_type": "display_data"
    },
    {
     "data": {
      "image/png": "[encoded data removed]",
      "text/plain": [
       "<Figure size 360x360 with 1 Axes>"
      ]
     },
     "metadata": {
      "needs_background": "light"
     },
     "output_type": "display_data"
    },
    {
     "data": {
      "image/png": "[encoded data removed]",
      "text/plain": [
       "<Figure size 360x360 with 1 Axes>"
      ]
     },
     "metadata": {
      "needs_background": "light"
     },
     "output_type": "display_data"
    }
   ],
   "source": [
    "import seaborn as sns\n",
    "import matplotlib.pyplot as plt\n",
    "columns = ['sqft_living', 'sqft_lot', 'sqft_above','sqft_basement']\n",
    "\n",
    "\n",
    "for i in range(0,len(columns)):\n",
    "    sns.displot(data=df, x=columns[i],kde=True)"
   ]
  },
  {
   "cell_type": "markdown",
   "metadata": {},
   "source": [
    "### Task 1.6 Checking Correlations\n",
    "Let's check correlations between variables.\n",
    "To get an overview:"
   ]
  },
  {
   "cell_type": "code",
   "execution_count": 20,
   "metadata": {},
   "outputs": [
    {
     "data": {
      "text/html": [
       "<div>\n",
       "<style scoped>\n",
       "    .dataframe tbody tr th:only-of-type {\n",
       "        vertical-align: middle;\n",
       "    }\n",
       "\n",
       "    .dataframe tbody tr th {\n",
       "        vertical-align: top;\n",
       "    }\n",
       "\n",
       "    .dataframe thead th {\n",
       "        text-align: right;\n",
       "    }\n",
       "</style>\n",
       "<table border=\"1\" class=\"dataframe\">\n",
       "  <thead>\n",
       "    <tr style=\"text-align: right;\">\n",
       "      <th></th>\n",
       "      <th>id</th>\n",
       "      <th>price</th>\n",
       "      <th>bedrooms</th>\n",
       "      <th>sqft_living</th>\n",
       "      <th>sqft_lot</th>\n",
       "      <th>floors</th>\n",
       "      <th>waterfront</th>\n",
       "      <th>view</th>\n",
       "      <th>condition</th>\n",
       "      <th>grade</th>\n",
       "      <th>sqft_above</th>\n",
       "      <th>sqft_basement</th>\n",
       "      <th>yr_built</th>\n",
       "      <th>yr_renovated</th>\n",
       "      <th>zipcode</th>\n",
       "      <th>lat</th>\n",
       "      <th>long</th>\n",
       "    </tr>\n",
       "  </thead>\n",
       "  <tbody>\n",
       "    <tr>\n",
       "      <th>id</th>\n",
       "      <td>1.000000</td>\n",
       "      <td>-0.011337</td>\n",
       "      <td>0.010115</td>\n",
       "      <td>-0.015018</td>\n",
       "      <td>-0.146693</td>\n",
       "      <td>0.023690</td>\n",
       "      <td>-0.004459</td>\n",
       "      <td>0.017193</td>\n",
       "      <td>-0.022246</td>\n",
       "      <td>0.007102</td>\n",
       "      <td>-0.010606</td>\n",
       "      <td>-0.010551</td>\n",
       "      <td>0.022983</td>\n",
       "      <td>-0.021375</td>\n",
       "      <td>-0.005154</td>\n",
       "      <td>-0.003512</td>\n",
       "      <td>0.014630</td>\n",
       "    </tr>\n",
       "    <tr>\n",
       "      <th>price</th>\n",
       "      <td>-0.011337</td>\n",
       "      <td>1.000000</td>\n",
       "      <td>0.291128</td>\n",
       "      <td>0.723203</td>\n",
       "      <td>0.135670</td>\n",
       "      <td>0.297925</td>\n",
       "      <td>0.041119</td>\n",
       "      <td>0.302372</td>\n",
       "      <td>-0.007892</td>\n",
       "      <td>0.714322</td>\n",
       "      <td>0.628201</td>\n",
       "      <td>0.285168</td>\n",
       "      <td>0.130753</td>\n",
       "      <td>0.056897</td>\n",
       "      <td>-0.032738</td>\n",
       "      <td>0.372321</td>\n",
       "      <td>0.070683</td>\n",
       "    </tr>\n",
       "    <tr>\n",
       "      <th>bedrooms</th>\n",
       "      <td>0.010115</td>\n",
       "      <td>0.291128</td>\n",
       "      <td>1.000000</td>\n",
       "      <td>0.498827</td>\n",
       "      <td>0.028569</td>\n",
       "      <td>0.138095</td>\n",
       "      <td>-0.012843</td>\n",
       "      <td>0.057685</td>\n",
       "      <td>0.019351</td>\n",
       "      <td>0.293413</td>\n",
       "      <td>0.402142</td>\n",
       "      <td>0.255828</td>\n",
       "      <td>0.138224</td>\n",
       "      <td>0.011231</td>\n",
       "      <td>-0.120632</td>\n",
       "      <td>-0.008183</td>\n",
       "      <td>0.115861</td>\n",
       "    </tr>\n",
       "    <tr>\n",
       "      <th>sqft_living</th>\n",
       "      <td>-0.015018</td>\n",
       "      <td>0.723203</td>\n",
       "      <td>0.498827</td>\n",
       "      <td>1.000000</td>\n",
       "      <td>0.194917</td>\n",
       "      <td>0.349573</td>\n",
       "      <td>0.012316</td>\n",
       "      <td>0.235155</td>\n",
       "      <td>-0.081943</td>\n",
       "      <td>0.749966</td>\n",
       "      <td>0.873754</td>\n",
       "      <td>0.384600</td>\n",
       "      <td>0.352810</td>\n",
       "      <td>0.022214</td>\n",
       "      <td>-0.201330</td>\n",
       "      <td>0.035685</td>\n",
       "      <td>0.266521</td>\n",
       "    </tr>\n",
       "    <tr>\n",
       "      <th>sqft_lot</th>\n",
       "      <td>-0.146693</td>\n",
       "      <td>0.135670</td>\n",
       "      <td>0.028569</td>\n",
       "      <td>0.194917</td>\n",
       "      <td>1.000000</td>\n",
       "      <td>-0.005178</td>\n",
       "      <td>0.039162</td>\n",
       "      <td>0.093741</td>\n",
       "      <td>-0.010641</td>\n",
       "      <td>0.129769</td>\n",
       "      <td>0.201360</td>\n",
       "      <td>0.016035</td>\n",
       "      <td>0.056616</td>\n",
       "      <td>0.010546</td>\n",
       "      <td>-0.132891</td>\n",
       "      <td>-0.085425</td>\n",
       "      <td>0.251375</td>\n",
       "    </tr>\n",
       "    <tr>\n",
       "      <th>floors</th>\n",
       "      <td>0.023690</td>\n",
       "      <td>0.297925</td>\n",
       "      <td>0.138095</td>\n",
       "      <td>0.349573</td>\n",
       "      <td>-0.005178</td>\n",
       "      <td>1.000000</td>\n",
       "      <td>-0.006456</td>\n",
       "      <td>0.012342</td>\n",
       "      <td>-0.272296</td>\n",
       "      <td>0.452717</td>\n",
       "      <td>0.518989</td>\n",
       "      <td>-0.270850</td>\n",
       "      <td>0.516348</td>\n",
       "      <td>-0.002336</td>\n",
       "      <td>-0.061269</td>\n",
       "      <td>0.039097</td>\n",
       "      <td>0.121121</td>\n",
       "    </tr>\n",
       "    <tr>\n",
       "      <th>waterfront</th>\n",
       "      <td>-0.004459</td>\n",
       "      <td>0.041119</td>\n",
       "      <td>-0.012843</td>\n",
       "      <td>0.012316</td>\n",
       "      <td>0.039162</td>\n",
       "      <td>-0.006456</td>\n",
       "      <td>1.000000</td>\n",
       "      <td>0.253916</td>\n",
       "      <td>0.013263</td>\n",
       "      <td>0.005048</td>\n",
       "      <td>-0.000689</td>\n",
       "      <td>0.026468</td>\n",
       "      <td>-0.035584</td>\n",
       "      <td>0.080563</td>\n",
       "      <td>0.039324</td>\n",
       "      <td>-0.044933</td>\n",
       "      <td>-0.057813</td>\n",
       "    </tr>\n",
       "    <tr>\n",
       "      <th>view</th>\n",
       "      <td>0.017193</td>\n",
       "      <td>0.302372</td>\n",
       "      <td>0.057685</td>\n",
       "      <td>0.235155</td>\n",
       "      <td>0.093741</td>\n",
       "      <td>0.012342</td>\n",
       "      <td>0.253916</td>\n",
       "      <td>1.000000</td>\n",
       "      <td>0.026638</td>\n",
       "      <td>0.200415</td>\n",
       "      <td>0.128006</td>\n",
       "      <td>0.237455</td>\n",
       "      <td>-0.043671</td>\n",
       "      <td>0.057496</td>\n",
       "      <td>0.080462</td>\n",
       "      <td>-0.005046</td>\n",
       "      <td>-0.064486</td>\n",
       "    </tr>\n",
       "    <tr>\n",
       "      <th>condition</th>\n",
       "      <td>-0.022246</td>\n",
       "      <td>-0.007892</td>\n",
       "      <td>0.019351</td>\n",
       "      <td>-0.081943</td>\n",
       "      <td>-0.010641</td>\n",
       "      <td>-0.272296</td>\n",
       "      <td>0.013263</td>\n",
       "      <td>0.026638</td>\n",
       "      <td>1.000000</td>\n",
       "      <td>-0.169586</td>\n",
       "      <td>-0.170447</td>\n",
       "      <td>0.156090</td>\n",
       "      <td>-0.343078</td>\n",
       "      <td>-0.057993</td>\n",
       "      <td>-0.013615</td>\n",
       "      <td>-0.048115</td>\n",
       "      <td>-0.085412</td>\n",
       "    </tr>\n",
       "    <tr>\n",
       "      <th>grade</th>\n",
       "      <td>0.007102</td>\n",
       "      <td>0.714322</td>\n",
       "      <td>0.293413</td>\n",
       "      <td>0.749966</td>\n",
       "      <td>0.129769</td>\n",
       "      <td>0.452717</td>\n",
       "      <td>0.005048</td>\n",
       "      <td>0.200415</td>\n",
       "      <td>-0.169586</td>\n",
       "      <td>1.000000</td>\n",
       "      <td>0.742616</td>\n",
       "      <td>0.122693</td>\n",
       "      <td>0.486414</td>\n",
       "      <td>-0.020436</td>\n",
       "      <td>-0.187398</td>\n",
       "      <td>0.095562</td>\n",
       "      <td>0.217592</td>\n",
       "    </tr>\n",
       "    <tr>\n",
       "      <th>sqft_above</th>\n",
       "      <td>-0.010606</td>\n",
       "      <td>0.628201</td>\n",
       "      <td>0.402142</td>\n",
       "      <td>0.873754</td>\n",
       "      <td>0.201360</td>\n",
       "      <td>0.518989</td>\n",
       "      <td>-0.000689</td>\n",
       "      <td>0.128006</td>\n",
       "      <td>-0.170447</td>\n",
       "      <td>0.742616</td>\n",
       "      <td>1.000000</td>\n",
       "      <td>-0.112911</td>\n",
       "      <td>0.447983</td>\n",
       "      <td>0.003232</td>\n",
       "      <td>-0.259002</td>\n",
       "      <td>-0.017986</td>\n",
       "      <td>0.365329</td>\n",
       "    </tr>\n",
       "    <tr>\n",
       "      <th>sqft_basement</th>\n",
       "      <td>-0.010551</td>\n",
       "      <td>0.285168</td>\n",
       "      <td>0.255828</td>\n",
       "      <td>0.384600</td>\n",
       "      <td>0.016035</td>\n",
       "      <td>-0.270850</td>\n",
       "      <td>0.026468</td>\n",
       "      <td>0.237455</td>\n",
       "      <td>0.156090</td>\n",
       "      <td>0.122693</td>\n",
       "      <td>-0.112911</td>\n",
       "      <td>1.000000</td>\n",
       "      <td>-0.129473</td>\n",
       "      <td>0.039247</td>\n",
       "      <td>0.080265</td>\n",
       "      <td>0.107038</td>\n",
       "      <td>-0.148885</td>\n",
       "    </tr>\n",
       "    <tr>\n",
       "      <th>yr_built</th>\n",
       "      <td>0.022983</td>\n",
       "      <td>0.130753</td>\n",
       "      <td>0.138224</td>\n",
       "      <td>0.352810</td>\n",
       "      <td>0.056616</td>\n",
       "      <td>0.516348</td>\n",
       "      <td>-0.035584</td>\n",
       "      <td>-0.043671</td>\n",
       "      <td>-0.343078</td>\n",
       "      <td>0.486414</td>\n",
       "      <td>0.447983</td>\n",
       "      <td>-0.129473</td>\n",
       "      <td>1.000000</td>\n",
       "      <td>-0.204108</td>\n",
       "      <td>-0.337909</td>\n",
       "      <td>-0.144126</td>\n",
       "      <td>0.389188</td>\n",
       "    </tr>\n",
       "    <tr>\n",
       "      <th>yr_renovated</th>\n",
       "      <td>-0.021375</td>\n",
       "      <td>0.056897</td>\n",
       "      <td>0.011231</td>\n",
       "      <td>0.022214</td>\n",
       "      <td>0.010546</td>\n",
       "      <td>-0.002336</td>\n",
       "      <td>0.080563</td>\n",
       "      <td>0.057496</td>\n",
       "      <td>-0.057993</td>\n",
       "      <td>-0.020436</td>\n",
       "      <td>0.003232</td>\n",
       "      <td>0.039247</td>\n",
       "      <td>-0.204108</td>\n",
       "      <td>1.000000</td>\n",
       "      <td>0.054377</td>\n",
       "      <td>0.011827</td>\n",
       "      <td>-0.045086</td>\n",
       "    </tr>\n",
       "    <tr>\n",
       "      <th>zipcode</th>\n",
       "      <td>-0.005154</td>\n",
       "      <td>-0.032738</td>\n",
       "      <td>-0.120632</td>\n",
       "      <td>-0.201330</td>\n",
       "      <td>-0.132891</td>\n",
       "      <td>-0.061269</td>\n",
       "      <td>0.039324</td>\n",
       "      <td>0.080462</td>\n",
       "      <td>-0.013615</td>\n",
       "      <td>-0.187398</td>\n",
       "      <td>-0.259002</td>\n",
       "      <td>0.080265</td>\n",
       "      <td>-0.337909</td>\n",
       "      <td>0.054377</td>\n",
       "      <td>1.000000</td>\n",
       "      <td>0.283145</td>\n",
       "      <td>-0.570091</td>\n",
       "    </tr>\n",
       "    <tr>\n",
       "      <th>lat</th>\n",
       "      <td>-0.003512</td>\n",
       "      <td>0.372321</td>\n",
       "      <td>-0.008183</td>\n",
       "      <td>0.035685</td>\n",
       "      <td>-0.085425</td>\n",
       "      <td>0.039097</td>\n",
       "      <td>-0.044933</td>\n",
       "      <td>-0.005046</td>\n",
       "      <td>-0.048115</td>\n",
       "      <td>0.095562</td>\n",
       "      <td>-0.017986</td>\n",
       "      <td>0.107038</td>\n",
       "      <td>-0.144126</td>\n",
       "      <td>0.011827</td>\n",
       "      <td>0.283145</td>\n",
       "      <td>1.000000</td>\n",
       "      <td>-0.145129</td>\n",
       "    </tr>\n",
       "    <tr>\n",
       "      <th>long</th>\n",
       "      <td>0.014630</td>\n",
       "      <td>0.070683</td>\n",
       "      <td>0.115861</td>\n",
       "      <td>0.266521</td>\n",
       "      <td>0.251375</td>\n",
       "      <td>0.121121</td>\n",
       "      <td>-0.057813</td>\n",
       "      <td>-0.064486</td>\n",
       "      <td>-0.085412</td>\n",
       "      <td>0.217592</td>\n",
       "      <td>0.365329</td>\n",
       "      <td>-0.148885</td>\n",
       "      <td>0.389188</td>\n",
       "      <td>-0.045086</td>\n",
       "      <td>-0.570091</td>\n",
       "      <td>-0.145129</td>\n",
       "      <td>1.000000</td>\n",
       "    </tr>\n",
       "  </tbody>\n",
       "</table>\n",
       "</div>"
      ],
      "text/plain": [
       "                     id     price  bedrooms  sqft_living  sqft_lot    floors  \\\n",
       "id             1.000000 -0.011337  0.010115    -0.015018 -0.146693  0.023690   \n",
       "price         -0.011337  1.000000  0.291128     0.723203  0.135670  0.297925   \n",
       "bedrooms       0.010115  0.291128  1.000000     0.498827  0.028569  0.138095   \n",
       "sqft_living   -0.015018  0.723203  0.498827     1.000000  0.194917  0.349573   \n",
       "sqft_lot      -0.146693  0.135670  0.028569     0.194917  1.000000 -0.005178   \n",
       "floors         0.023690  0.297925  0.138095     0.349573 -0.005178  1.000000   \n",
       "waterfront    -0.004459  0.041119 -0.012843     0.012316  0.039162 -0.006456   \n",
       "view           0.017193  0.302372  0.057685     0.235155  0.093741  0.012342   \n",
       "condition     -0.022246 -0.007892  0.019351    -0.081943 -0.010641 -0.272296   \n",
       "grade          0.007102  0.714322  0.293413     0.749966  0.129769  0.452717   \n",
       "sqft_above    -0.010606  0.628201  0.402142     0.873754  0.201360  0.518989   \n",
       "sqft_basement -0.010551  0.285168  0.255828     0.384600  0.016035 -0.270850   \n",
       "yr_built       0.022983  0.130753  0.138224     0.352810  0.056616  0.516348   \n",
       "yr_renovated  -0.021375  0.056897  0.011231     0.022214  0.010546 -0.002336   \n",
       "zipcode       -0.005154 -0.032738 -0.120632    -0.201330 -0.132891 -0.061269   \n",
       "lat           -0.003512  0.372321 -0.008183     0.035685 -0.085425  0.039097   \n",
       "long           0.014630  0.070683  0.115861     0.266521  0.251375  0.121121   \n",
       "\n",
       "               waterfront      view  condition     grade  sqft_above  \\\n",
       "id              -0.004459  0.017193  -0.022246  0.007102   -0.010606   \n",
       "price            0.041119  0.302372  -0.007892  0.714322    0.628201   \n",
       "bedrooms        -0.012843  0.057685   0.019351  0.293413    0.402142   \n",
       "sqft_living      0.012316  0.235155  -0.081943  0.749966    0.873754   \n",
       "sqft_lot         0.039162  0.093741  -0.010641  0.129769    0.201360   \n",
       "floors          -0.006456  0.012342  -0.272296  0.452717    0.518989   \n",
       "waterfront       1.000000  0.253916   0.013263  0.005048   -0.000689   \n",
       "view             0.253916  1.000000   0.026638  0.200415    0.128006   \n",
       "condition        0.013263  0.026638   1.000000 -0.169586   -0.170447   \n",
       "grade            0.005048  0.200415  -0.169586  1.000000    0.742616   \n",
       "sqft_above      -0.000689  0.128006  -0.170447  0.742616    1.000000   \n",
       "sqft_basement    0.026468  0.237455   0.156090  0.122693   -0.112911   \n",
       "yr_built        -0.035584 -0.043671  -0.343078  0.486414    0.447983   \n",
       "yr_renovated     0.080563  0.057496  -0.057993 -0.020436    0.003232   \n",
       "zipcode          0.039324  0.080462  -0.013615 -0.187398   -0.259002   \n",
       "lat             -0.044933 -0.005046  -0.048115  0.095562   -0.017986   \n",
       "long            -0.057813 -0.064486  -0.085412  0.217592    0.365329   \n",
       "\n",
       "               sqft_basement  yr_built  yr_renovated   zipcode       lat  \\\n",
       "id                 -0.010551  0.022983     -0.021375 -0.005154 -0.003512   \n",
       "price               0.285168  0.130753      0.056897 -0.032738  0.372321   \n",
       "bedrooms            0.255828  0.138224      0.011231 -0.120632 -0.008183   \n",
       "sqft_living         0.384600  0.352810      0.022214 -0.201330  0.035685   \n",
       "sqft_lot            0.016035  0.056616      0.010546 -0.132891 -0.085425   \n",
       "floors             -0.270850  0.516348     -0.002336 -0.061269  0.039097   \n",
       "waterfront          0.026468 -0.035584      0.080563  0.039324 -0.044933   \n",
       "view                0.237455 -0.043671      0.057496  0.080462 -0.005046   \n",
       "condition           0.156090 -0.343078     -0.057993 -0.013615 -0.048115   \n",
       "grade               0.122693  0.486414     -0.020436 -0.187398  0.095562   \n",
       "sqft_above         -0.112911  0.447983      0.003232 -0.259002 -0.017986   \n",
       "sqft_basement       1.000000 -0.129473      0.039247  0.080265  0.107038   \n",
       "yr_built           -0.129473  1.000000     -0.204108 -0.337909 -0.144126   \n",
       "yr_renovated        0.039247 -0.204108      1.000000  0.054377  0.011827   \n",
       "zipcode             0.080265 -0.337909      0.054377  1.000000  0.283145   \n",
       "lat                 0.107038 -0.144126      0.011827  0.283145  1.000000   \n",
       "long               -0.148885  0.389188     -0.045086 -0.570091 -0.145129   \n",
       "\n",
       "                   long  \n",
       "id             0.014630  \n",
       "price          0.070683  \n",
       "bedrooms       0.115861  \n",
       "sqft_living    0.266521  \n",
       "sqft_lot       0.251375  \n",
       "floors         0.121121  \n",
       "waterfront    -0.057813  \n",
       "view          -0.064486  \n",
       "condition     -0.085412  \n",
       "grade          0.217592  \n",
       "sqft_above     0.365329  \n",
       "sqft_basement -0.148885  \n",
       "yr_built       0.389188  \n",
       "yr_renovated  -0.045086  \n",
       "zipcode       -0.570091  \n",
       "lat           -0.145129  \n",
       "long           1.000000  "
      ]
     },
     "execution_count": 20,
     "metadata": {},
     "output_type": "execute_result"
    }
   ],
   "source": [
    "df.corr()"
   ]
  },
  {
   "cell_type": "markdown",
   "metadata": {},
   "source": [
    "To make it a bit easier/nicer to read, using a heatmap:"
   ]
  },
  {
   "cell_type": "code",
   "execution_count": 21,
   "metadata": {},
   "outputs": [
    {
     "data": {
      "image/png": "[encoded data removed]",
      "text/plain": [
       "<Figure size 1080x720 with 2 Axes>"
      ]
     },
     "metadata": {
      "needs_background": "light"
     },
     "output_type": "display_data"
    }
   ],
   "source": [
    "def correlation_heatmap(df):\n",
    "    _,ax=plt.subplots(figsize=(15,10))\n",
    "    colormap=sns.diverging_palette(220,10,as_cmap=True)\n",
    "    sns.heatmap(df.corr(),annot=True,cmap=colormap)\n",
    "    \n",
    "correlation_heatmap(df)"
   ]
  },
  {
   "cell_type": "markdown",
   "metadata": {},
   "source": [
    "Some of the outstanding variables: `sqft_living` and `sqft_above`, `price` and `grade`, `price` and `sqft_living`, `bedrooms` and `sqft_living`, `grade` and `sqft_living` are strongly correlated."
   ]
  },
  {
   "cell_type": "markdown",
   "metadata": {},
   "source": [
    "## Task 2 Data Cleansing\n",
    "\n",
    "There are a number of subtasks in this task, each relates to a particular type of data quality problem and you are required to audit the problem and fix by coding. \n",
    "All the data files required for this task are located inside the 'data' folder. "
   ]
  },
  {
   "cell_type": "markdown",
   "metadata": {},
   "source": [
    "### Task 2.1 Misspelling and inconsistency \n",
    "This subtask requires the dataset `task2_1.csv`.\n",
    "It contains one single column `suburb`, i.e., a list of suburb names. \n",
    "However, there are misspelling and inconsistency in some of the records. \n",
    "You are required to audit the data and fix where required. "
   ]
  },
  {
   "cell_type": "code",
   "execution_count": 22,
   "metadata": {},
   "outputs": [
    {
     "data": {
      "text/html": [
       "<div>\n",
       "<style scoped>\n",
       "    .dataframe tbody tr th:only-of-type {\n",
       "        vertical-align: middle;\n",
       "    }\n",
       "\n",
       "    .dataframe tbody tr th {\n",
       "        vertical-align: top;\n",
       "    }\n",
       "\n",
       "    .dataframe thead th {\n",
       "        text-align: right;\n",
       "    }\n",
       "</style>\n",
       "<table border=\"1\" class=\"dataframe\">\n",
       "  <thead>\n",
       "    <tr style=\"text-align: right;\">\n",
       "      <th></th>\n",
       "      <th>suburb</th>\n",
       "    </tr>\n",
       "  </thead>\n",
       "  <tbody>\n",
       "    <tr>\n",
       "      <th>0</th>\n",
       "      <td>anthony</td>\n",
       "    </tr>\n",
       "    <tr>\n",
       "      <th>1</th>\n",
       "      <td>Amelup</td>\n",
       "    </tr>\n",
       "    <tr>\n",
       "      <th>2</th>\n",
       "      <td>Antonymyre</td>\n",
       "    </tr>\n",
       "    <tr>\n",
       "      <th>3</th>\n",
       "      <td>albion park</td>\n",
       "    </tr>\n",
       "    <tr>\n",
       "      <th>4</th>\n",
       "      <td>ashbury</td>\n",
       "    </tr>\n",
       "  </tbody>\n",
       "</table>\n",
       "</div>"
      ],
      "text/plain": [
       "        suburb\n",
       "0      anthony\n",
       "1       Amelup\n",
       "2   Antonymyre\n",
       "3  albion park\n",
       "4      ashbury"
      ]
     },
     "execution_count": 22,
     "metadata": {},
     "output_type": "execute_result"
    }
   ],
   "source": [
    "data = pd.read_csv('data/task2_1.csv')\n",
    "data.head()"
   ]
  },
  {
   "cell_type": "markdown",
   "metadata": {},
   "source": [
    "oh, it seems that some values start with capital letters whilst some are just lower case letters. Let's normalise it:"
   ]
  },
  {
   "cell_type": "code",
   "execution_count": 23,
   "metadata": {},
   "outputs": [],
   "source": [
    "data['suburb']= data['suburb'].str.lower()"
   ]
  },
  {
   "cell_type": "code",
   "execution_count": 24,
   "metadata": {},
   "outputs": [
    {
     "data": {
      "text/plain": [
       "ashby             155\n",
       "allens rivulet    146\n",
       "adventure bay     145\n",
       "allenstown        145\n",
       "alexandra         144\n",
       "                 ... \n",
       "avonmore           97\n",
       "anatye             97\n",
       "ancona             96\n",
       "ambarvala           2\n",
       "ashment             2\n",
       "Name: suburb, Length: 413, dtype: int64"
      ]
     },
     "execution_count": 24,
     "metadata": {},
     "output_type": "execute_result"
    }
   ],
   "source": [
    "data['suburb'].value_counts()"
   ]
  },
  {
   "cell_type": "markdown",
   "metadata": {},
   "source": [
    "Most suburb names has high frequency, except for two: `ashment` and `ambarvala`. It seems like they are typos. \n",
    "Before we fix the typos, if you're not that familiar with the suburb names, we can actually find the best matching suburb names using the `difflib` library."
   ]
  },
  {
   "cell_type": "code",
   "execution_count": 25,
   "metadata": {},
   "outputs": [
    {
     "data": {
      "text/plain": [
       "['ashmont']"
      ]
     },
     "execution_count": 25,
     "metadata": {},
     "output_type": "execute_result"
    }
   ],
   "source": [
    "import difflib\n",
    "\n",
    "# finding the best match from the rest of all suburb names, with a specific threshold .85\n",
    "# you can gradually lower the threshod if there is no matching\n",
    "difflib.get_close_matches('ashment',set(data['suburb']).difference(['ashment']), n = 1,cutoff=0.85) "
   ]
  },
  {
   "cell_type": "code",
   "execution_count": 26,
   "metadata": {},
   "outputs": [
    {
     "data": {
      "text/plain": [
       "['ambarvale']"
      ]
     },
     "execution_count": 26,
     "metadata": {},
     "output_type": "execute_result"
    }
   ],
   "source": [
    "difflib.get_close_matches('ambarvala',set(data['suburb']).difference(['ambarvala']), n = 1,cutoff=0.85) "
   ]
  },
  {
   "cell_type": "markdown",
   "metadata": {},
   "source": [
    "Ok, it so seems that 'ashment' is a typo of 'ashmont', and 'ambarvala' is a typo of 'ambarvale'. Let's get them fixed. "
   ]
  },
  {
   "cell_type": "code",
   "execution_count": 27,
   "metadata": {},
   "outputs": [
    {
     "data": {
      "text/plain": [
       "ashby               155\n",
       "allens rivulet      146\n",
       "adventure bay       145\n",
       "allenstown          145\n",
       "alma park           144\n",
       "                   ... \n",
       "allambie heights     98\n",
       "alpha                98\n",
       "avonmore             97\n",
       "anatye               97\n",
       "ancona               96\n",
       "Name: suburb, Length: 411, dtype: int64"
      ]
     },
     "execution_count": 27,
     "metadata": {},
     "output_type": "execute_result"
    }
   ],
   "source": [
    "replace_dict = {'ashment':'ashmont', 'ambarvala':'ambarvale'}\n",
    "data['suburb'].replace(replace_dict,inplace=True)\n",
    "data['suburb'].value_counts()"
   ]
  },
  {
   "cell_type": "code",
   "execution_count": 28,
   "metadata": {},
   "outputs": [],
   "source": [
    "data.to_csv('task2_1_cleaned.csv',index = False)"
   ]
  },
  {
   "cell_type": "markdown",
   "metadata": {},
   "source": [
    "## Task 2.2 Irregularities\n",
    "This subtask requires the data set `task2_2.csv`.\n",
    "It contains one single column `salary`, i.e., a list of annual salary values. \n",
    "However, there are irregularities problems. \n",
    "You are required to audit the data and fix where required. "
   ]
  },
  {
   "cell_type": "code",
   "execution_count": 29,
   "metadata": {},
   "outputs": [
    {
     "data": {
      "text/html": [
       "<div>\n",
       "<style scoped>\n",
       "    .dataframe tbody tr th:only-of-type {\n",
       "        vertical-align: middle;\n",
       "    }\n",
       "\n",
       "    .dataframe tbody tr th {\n",
       "        vertical-align: top;\n",
       "    }\n",
       "\n",
       "    .dataframe thead th {\n",
       "        text-align: right;\n",
       "    }\n",
       "</style>\n",
       "<table border=\"1\" class=\"dataframe\">\n",
       "  <thead>\n",
       "    <tr style=\"text-align: right;\">\n",
       "      <th></th>\n",
       "      <th>salary</th>\n",
       "    </tr>\n",
       "  </thead>\n",
       "  <tbody>\n",
       "    <tr>\n",
       "      <th>0</th>\n",
       "      <td>86000</td>\n",
       "    </tr>\n",
       "    <tr>\n",
       "      <th>1</th>\n",
       "      <td>77,000</td>\n",
       "    </tr>\n",
       "    <tr>\n",
       "      <th>2</th>\n",
       "      <td>86000</td>\n",
       "    </tr>\n",
       "    <tr>\n",
       "      <th>3</th>\n",
       "      <td>63,000</td>\n",
       "    </tr>\n",
       "    <tr>\n",
       "      <th>4</th>\n",
       "      <td>81,000</td>\n",
       "    </tr>\n",
       "    <tr>\n",
       "      <th>5</th>\n",
       "      <td>91000</td>\n",
       "    </tr>\n",
       "    <tr>\n",
       "      <th>6</th>\n",
       "      <td>52k</td>\n",
       "    </tr>\n",
       "    <tr>\n",
       "      <th>7</th>\n",
       "      <td>81,000</td>\n",
       "    </tr>\n",
       "    <tr>\n",
       "      <th>8</th>\n",
       "      <td>54000</td>\n",
       "    </tr>\n",
       "    <tr>\n",
       "      <th>9</th>\n",
       "      <td>97,000</td>\n",
       "    </tr>\n",
       "  </tbody>\n",
       "</table>\n",
       "</div>"
      ],
      "text/plain": [
       "   salary\n",
       "0   86000\n",
       "1  77,000\n",
       "2   86000\n",
       "3  63,000\n",
       "4  81,000\n",
       "5   91000\n",
       "6     52k\n",
       "7  81,000\n",
       "8   54000\n",
       "9  97,000"
      ]
     },
     "execution_count": 29,
     "metadata": {},
     "output_type": "execute_result"
    }
   ],
   "source": [
    "data = pd.read_csv('data/task2_2.csv')\n",
    "data.head(10)"
   ]
  },
  {
   "cell_type": "code",
   "execution_count": 30,
   "metadata": {},
   "outputs": [
    {
     "data": {
      "text/plain": [
       "salary    object\n",
       "dtype: object"
      ]
     },
     "execution_count": 30,
     "metadata": {},
     "output_type": "execute_result"
    }
   ],
   "source": [
    "data.dtypes"
   ]
  },
  {
   "cell_type": "markdown",
   "metadata": {},
   "source": [
    "`salary` is a string type object. There seems to be mainly three different ways that the salary was written:\n",
    "- digits only\n",
    "- digits follow with a 'k'\n",
    "- digits seperate by a comma\n",
    "\n",
    "Let's see what are the possible non-digit characters in the salary value. "
   ]
  },
  {
   "cell_type": "code",
   "execution_count": 31,
   "metadata": {},
   "outputs": [
    {
     "data": {
      "text/plain": [
       "[]       16722\n",
       "['k']    16650\n",
       "[',']    16628\n",
       "Name: salary, dtype: int64"
      ]
     },
     "execution_count": 31,
     "metadata": {},
     "output_type": "execute_result"
    }
   ],
   "source": [
    "non_digit_chars = data['salary'].apply(lambda x: re.findall(r'\\D+', x))\n",
    "non_digit_chars.astype('str').value_counts() # as each element in non_digit_chars is a list, \n",
    "                                             # we need to convert it to string before we can do value counts"
   ]
  },
  {
   "cell_type": "markdown",
   "metadata": {},
   "source": [
    "Ok, that further confirms our assumption. \n",
    "Let's unify them to just digits:"
   ]
  },
  {
   "cell_type": "code",
   "execution_count": 32,
   "metadata": {},
   "outputs": [],
   "source": [
    "data['salary'] = data.salary.apply(lambda x: re.sub(',','',x)) # delete ','\n",
    "data['salary'] = data.salary.apply(lambda x: re.sub('k','000',x)) # replace k by 000\n"
   ]
  },
  {
   "cell_type": "code",
   "execution_count": 33,
   "metadata": {},
   "outputs": [
    {
     "data": {
      "text/plain": [
       "0        86000\n",
       "1        77000\n",
       "2        86000\n",
       "3        63000\n",
       "4        81000\n",
       "         ...  \n",
       "49995    67000\n",
       "49996    62000\n",
       "49997    76000\n",
       "49998    97000\n",
       "49999    84000\n",
       "Name: salary, Length: 50000, dtype: int32"
      ]
     },
     "execution_count": 33,
     "metadata": {},
     "output_type": "execute_result"
    }
   ],
   "source": [
    "# see whether type cast to int is successful\n",
    "data['salary'].astype(int)"
   ]
  },
  {
   "cell_type": "code",
   "execution_count": 34,
   "metadata": {},
   "outputs": [],
   "source": [
    "data.to_csv('task2_2_cleaned.csv',index = False)"
   ]
  },
  {
   "cell_type": "markdown",
   "metadata": {},
   "source": [
    "### Task 2.3 Integrity Constraint Violation\n",
    "This subtask requires the data set `task2_3.csv`.\n",
    "It contains pairs of datetime information about buildings’ built year and settlement date. \n",
    "However, there are integrity constraint violation problems. \n",
    "You are required to audit the data and fix where required. "
   ]
  },
  {
   "cell_type": "code",
   "execution_count": 35,
   "metadata": {},
   "outputs": [
    {
     "data": {
      "text/html": [
       "<div>\n",
       "<style scoped>\n",
       "    .dataframe tbody tr th:only-of-type {\n",
       "        vertical-align: middle;\n",
       "    }\n",
       "\n",
       "    .dataframe tbody tr th {\n",
       "        vertical-align: top;\n",
       "    }\n",
       "\n",
       "    .dataframe thead th {\n",
       "        text-align: right;\n",
       "    }\n",
       "</style>\n",
       "<table border=\"1\" class=\"dataframe\">\n",
       "  <thead>\n",
       "    <tr style=\"text-align: right;\">\n",
       "      <th></th>\n",
       "      <th>year_built</th>\n",
       "      <th>date_settled</th>\n",
       "    </tr>\n",
       "  </thead>\n",
       "  <tbody>\n",
       "    <tr>\n",
       "      <th>0</th>\n",
       "      <td>2007</td>\n",
       "      <td>06/06/2009</td>\n",
       "    </tr>\n",
       "    <tr>\n",
       "      <th>1</th>\n",
       "      <td>2006</td>\n",
       "      <td>07/30/2006</td>\n",
       "    </tr>\n",
       "    <tr>\n",
       "      <th>2</th>\n",
       "      <td>2008</td>\n",
       "      <td>07/24/2009</td>\n",
       "    </tr>\n",
       "    <tr>\n",
       "      <th>3</th>\n",
       "      <td>2001</td>\n",
       "      <td>02/14/2002</td>\n",
       "    </tr>\n",
       "    <tr>\n",
       "      <th>4</th>\n",
       "      <td>2012</td>\n",
       "      <td>04/08/2014</td>\n",
       "    </tr>\n",
       "    <tr>\n",
       "      <th>5</th>\n",
       "      <td>2014</td>\n",
       "      <td>06/22/2014</td>\n",
       "    </tr>\n",
       "    <tr>\n",
       "      <th>6</th>\n",
       "      <td>2011</td>\n",
       "      <td>01/26/2011</td>\n",
       "    </tr>\n",
       "    <tr>\n",
       "      <th>7</th>\n",
       "      <td>2000</td>\n",
       "      <td>03/16/2001</td>\n",
       "    </tr>\n",
       "    <tr>\n",
       "      <th>8</th>\n",
       "      <td>2007</td>\n",
       "      <td>05/31/2008</td>\n",
       "    </tr>\n",
       "    <tr>\n",
       "      <th>9</th>\n",
       "      <td>2003</td>\n",
       "      <td>07/22/2004</td>\n",
       "    </tr>\n",
       "  </tbody>\n",
       "</table>\n",
       "</div>"
      ],
      "text/plain": [
       "   year_built date_settled\n",
       "0        2007   06/06/2009\n",
       "1        2006   07/30/2006\n",
       "2        2008   07/24/2009\n",
       "3        2001   02/14/2002\n",
       "4        2012   04/08/2014\n",
       "5        2014   06/22/2014\n",
       "6        2011   01/26/2011\n",
       "7        2000   03/16/2001\n",
       "8        2007   05/31/2008\n",
       "9        2003   07/22/2004"
      ]
     },
     "execution_count": 35,
     "metadata": {},
     "output_type": "execute_result"
    }
   ],
   "source": [
    "data = pd.read_csv('data/task2_3.csv')\n",
    "data.head(10)"
   ]
  },
  {
   "cell_type": "code",
   "execution_count": 36,
   "metadata": {},
   "outputs": [
    {
     "data": {
      "text/plain": [
       "year_built       int64\n",
       "date_settled    object\n",
       "dtype: object"
      ]
     },
     "execution_count": 36,
     "metadata": {},
     "output_type": "execute_result"
    }
   ],
   "source": [
    "data.dtypes"
   ]
  },
  {
   "cell_type": "markdown",
   "metadata": {},
   "source": [
    "Obviously, `date_settled` should be after `year_built`. \n",
    "Let's create an indicator column `violated` to indicate whether the record violated integrity constraints."
   ]
  },
  {
   "cell_type": "code",
   "execution_count": 37,
   "metadata": {},
   "outputs": [
    {
     "data": {
      "text/plain": [
       "0        False\n",
       "1        False\n",
       "2        False\n",
       "3        False\n",
       "4        False\n",
       "         ...  \n",
       "49995    False\n",
       "49996    False\n",
       "49997    False\n",
       "49998    False\n",
       "49999    False\n",
       "Name: violated, Length: 50000, dtype: bool"
      ]
     },
     "execution_count": 37,
     "metadata": {},
     "output_type": "execute_result"
    }
   ],
   "source": [
    "data['violated'] = data.apply(lambda row: \\\n",
    "                              int(re.search(r'\\d{4}',row['date_settled']).group(0)) < row['year_built'] ,axis =1)\n",
    "data['violated']"
   ]
  },
  {
   "cell_type": "code",
   "execution_count": 38,
   "metadata": {},
   "outputs": [
    {
     "data": {
      "text/html": [
       "<div>\n",
       "<style scoped>\n",
       "    .dataframe tbody tr th:only-of-type {\n",
       "        vertical-align: middle;\n",
       "    }\n",
       "\n",
       "    .dataframe tbody tr th {\n",
       "        vertical-align: top;\n",
       "    }\n",
       "\n",
       "    .dataframe thead th {\n",
       "        text-align: right;\n",
       "    }\n",
       "</style>\n",
       "<table border=\"1\" class=\"dataframe\">\n",
       "  <thead>\n",
       "    <tr style=\"text-align: right;\">\n",
       "      <th></th>\n",
       "      <th>year_built</th>\n",
       "      <th>date_settled</th>\n",
       "      <th>violated</th>\n",
       "    </tr>\n",
       "  </thead>\n",
       "  <tbody>\n",
       "    <tr>\n",
       "      <th>2135</th>\n",
       "      <td>2003</td>\n",
       "      <td>11/22/2001</td>\n",
       "      <td>True</td>\n",
       "    </tr>\n",
       "    <tr>\n",
       "      <th>37447</th>\n",
       "      <td>2034</td>\n",
       "      <td>01/17/2015</td>\n",
       "      <td>True</td>\n",
       "    </tr>\n",
       "  </tbody>\n",
       "</table>\n",
       "</div>"
      ],
      "text/plain": [
       "       year_built date_settled  violated\n",
       "2135         2003   11/22/2001      True\n",
       "37447        2034   01/17/2015      True"
      ]
     },
     "execution_count": 38,
     "metadata": {},
     "output_type": "execute_result"
    }
   ],
   "source": [
    "data[data['violated']]"
   ]
  },
  {
   "cell_type": "markdown",
   "metadata": {},
   "source": [
    "There is no clue what that year_built means, let's use the year in the settled date instead:"
   ]
  },
  {
   "cell_type": "code",
   "execution_count": 39,
   "metadata": {},
   "outputs": [],
   "source": [
    "applied_indices = data[data['violated']].index\n",
    "for ind in applied_indices:\n",
    "    year = int(re.search(r'\\d{4}',data.loc[ind,'date_settled']).group(0))\n",
    "    data.loc[ind,'year_built'] = year"
   ]
  },
  {
   "cell_type": "code",
   "execution_count": 40,
   "metadata": {},
   "outputs": [
    {
     "data": {
      "text/html": [
       "<div>\n",
       "<style scoped>\n",
       "    .dataframe tbody tr th:only-of-type {\n",
       "        vertical-align: middle;\n",
       "    }\n",
       "\n",
       "    .dataframe tbody tr th {\n",
       "        vertical-align: top;\n",
       "    }\n",
       "\n",
       "    .dataframe thead th {\n",
       "        text-align: right;\n",
       "    }\n",
       "</style>\n",
       "<table border=\"1\" class=\"dataframe\">\n",
       "  <thead>\n",
       "    <tr style=\"text-align: right;\">\n",
       "      <th></th>\n",
       "      <th>year_built</th>\n",
       "      <th>date_settled</th>\n",
       "      <th>violated</th>\n",
       "    </tr>\n",
       "  </thead>\n",
       "  <tbody>\n",
       "  </tbody>\n",
       "</table>\n",
       "</div>"
      ],
      "text/plain": [
       "Empty DataFrame\n",
       "Columns: [year_built, date_settled, violated]\n",
       "Index: []"
      ]
     },
     "execution_count": 40,
     "metadata": {},
     "output_type": "execute_result"
    }
   ],
   "source": [
    "# double check whether there are still any violation\n",
    "data['violated'] = data.apply(lambda row: int(re.search(r'\\d{4}',row['date_settled']).group(0)) < row['year_built'] ,axis =1)\n",
    "data[data['violated']]"
   ]
  },
  {
   "cell_type": "code",
   "execution_count": 41,
   "metadata": {},
   "outputs": [],
   "source": [
    "del data['violated'] # delete the column we created for testing"
   ]
  },
  {
   "cell_type": "code",
   "execution_count": 42,
   "metadata": {},
   "outputs": [],
   "source": [
    "data.to_csv('task2_3_cleaned.csv',index = False)"
   ]
  },
  {
   "cell_type": "markdown",
   "metadata": {},
   "source": [
    "### Task 2.4 Missing values\n",
    "\n",
    "In this subtask, we will be using the `kc_house.csv` dataset again. \n",
    "As shown in Task 1.3, there are 151 missing values in the `bathrooms` column, there are also 97 records with a value '-'. \n",
    "In this task, let's impute the missing values for the `bathrooms` column, including records that contains just a '-'."
   ]
  },
  {
   "cell_type": "code",
   "execution_count": 43,
   "metadata": {},
   "outputs": [
    {
     "name": "stdout",
     "output_type": "stream",
     "text": [
      "(9979, 19)\n"
     ]
    },
    {
     "data": {
      "text/html": [
       "<div>\n",
       "<style scoped>\n",
       "    .dataframe tbody tr th:only-of-type {\n",
       "        vertical-align: middle;\n",
       "    }\n",
       "\n",
       "    .dataframe tbody tr th {\n",
       "        vertical-align: top;\n",
       "    }\n",
       "\n",
       "    .dataframe thead th {\n",
       "        text-align: right;\n",
       "    }\n",
       "</style>\n",
       "<table border=\"1\" class=\"dataframe\">\n",
       "  <thead>\n",
       "    <tr style=\"text-align: right;\">\n",
       "      <th></th>\n",
       "      <th>id</th>\n",
       "      <th>date</th>\n",
       "      <th>price</th>\n",
       "      <th>bedrooms</th>\n",
       "      <th>bathrooms</th>\n",
       "      <th>sqft_living</th>\n",
       "      <th>sqft_lot</th>\n",
       "      <th>floors</th>\n",
       "      <th>waterfront</th>\n",
       "      <th>view</th>\n",
       "      <th>condition</th>\n",
       "      <th>grade</th>\n",
       "      <th>sqft_above</th>\n",
       "      <th>sqft_basement</th>\n",
       "      <th>yr_built</th>\n",
       "      <th>yr_renovated</th>\n",
       "      <th>zipcode</th>\n",
       "      <th>lat</th>\n",
       "      <th>long</th>\n",
       "    </tr>\n",
       "  </thead>\n",
       "  <tbody>\n",
       "    <tr>\n",
       "      <th>0</th>\n",
       "      <td>5437400630</td>\n",
       "      <td>20141016T000000</td>\n",
       "      <td>625000.0</td>\n",
       "      <td>4</td>\n",
       "      <td>2.25</td>\n",
       "      <td>1920</td>\n",
       "      <td>8259</td>\n",
       "      <td>2.0</td>\n",
       "      <td>0</td>\n",
       "      <td>0</td>\n",
       "      <td>4</td>\n",
       "      <td>8</td>\n",
       "      <td>1920</td>\n",
       "      <td>0</td>\n",
       "      <td>1979</td>\n",
       "      <td>0</td>\n",
       "      <td>98027</td>\n",
       "      <td>47.5616</td>\n",
       "      <td>-122.088</td>\n",
       "    </tr>\n",
       "    <tr>\n",
       "      <th>1</th>\n",
       "      <td>3999300290</td>\n",
       "      <td>20141016T000000</td>\n",
       "      <td>850000.0</td>\n",
       "      <td>3</td>\n",
       "      <td>3.5</td>\n",
       "      <td>2620</td>\n",
       "      <td>11148</td>\n",
       "      <td>2.0</td>\n",
       "      <td>0</td>\n",
       "      <td>4</td>\n",
       "      <td>4</td>\n",
       "      <td>9</td>\n",
       "      <td>2060</td>\n",
       "      <td>560</td>\n",
       "      <td>1977</td>\n",
       "      <td>0</td>\n",
       "      <td>98008</td>\n",
       "      <td>47.5845</td>\n",
       "      <td>-122.115</td>\n",
       "    </tr>\n",
       "    <tr>\n",
       "      <th>2</th>\n",
       "      <td>2525059134</td>\n",
       "      <td>20141016T000000</td>\n",
       "      <td>500000.0</td>\n",
       "      <td>2</td>\n",
       "      <td>1.5</td>\n",
       "      <td>1760</td>\n",
       "      <td>12000</td>\n",
       "      <td>1.0</td>\n",
       "      <td>0</td>\n",
       "      <td>0</td>\n",
       "      <td>4</td>\n",
       "      <td>7</td>\n",
       "      <td>1760</td>\n",
       "      <td>0</td>\n",
       "      <td>1964</td>\n",
       "      <td>0</td>\n",
       "      <td>98052</td>\n",
       "      <td>47.6288</td>\n",
       "      <td>-122.109</td>\n",
       "    </tr>\n",
       "    <tr>\n",
       "      <th>3</th>\n",
       "      <td>1862400285</td>\n",
       "      <td>20141016T000000</td>\n",
       "      <td>375000.0</td>\n",
       "      <td>3</td>\n",
       "      <td>1.0</td>\n",
       "      <td>1200</td>\n",
       "      <td>5404</td>\n",
       "      <td>1.0</td>\n",
       "      <td>0</td>\n",
       "      <td>0</td>\n",
       "      <td>3</td>\n",
       "      <td>6</td>\n",
       "      <td>1200</td>\n",
       "      <td>0</td>\n",
       "      <td>1937</td>\n",
       "      <td>0</td>\n",
       "      <td>98117</td>\n",
       "      <td>47.6969</td>\n",
       "      <td>-122.368</td>\n",
       "    </tr>\n",
       "    <tr>\n",
       "      <th>4</th>\n",
       "      <td>7199320190</td>\n",
       "      <td>20141016T000000</td>\n",
       "      <td>618000.0</td>\n",
       "      <td>4</td>\n",
       "      <td>2.25</td>\n",
       "      <td>2470</td>\n",
       "      <td>7350</td>\n",
       "      <td>1.0</td>\n",
       "      <td>0</td>\n",
       "      <td>0</td>\n",
       "      <td>3</td>\n",
       "      <td>7</td>\n",
       "      <td>1600</td>\n",
       "      <td>870</td>\n",
       "      <td>1978</td>\n",
       "      <td>0</td>\n",
       "      <td>98052</td>\n",
       "      <td>47.6936</td>\n",
       "      <td>-122.128</td>\n",
       "    </tr>\n",
       "  </tbody>\n",
       "</table>\n",
       "</div>"
      ],
      "text/plain": [
       "           id             date     price  bedrooms bathrooms  sqft_living  \\\n",
       "0  5437400630  20141016T000000  625000.0         4      2.25         1920   \n",
       "1  3999300290  20141016T000000  850000.0         3       3.5         2620   \n",
       "2  2525059134  20141016T000000  500000.0         2       1.5         1760   \n",
       "3  1862400285  20141016T000000  375000.0         3       1.0         1200   \n",
       "4  7199320190  20141016T000000  618000.0         4      2.25         2470   \n",
       "\n",
       "   sqft_lot  floors  waterfront  view  condition  grade  sqft_above  \\\n",
       "0      8259     2.0           0     0          4      8        1920   \n",
       "1     11148     2.0           0     4          4      9        2060   \n",
       "2     12000     1.0           0     0          4      7        1760   \n",
       "3      5404     1.0           0     0          3      6        1200   \n",
       "4      7350     1.0           0     0          3      7        1600   \n",
       "\n",
       "   sqft_basement  yr_built  yr_renovated  zipcode      lat     long  \n",
       "0              0      1979             0    98027  47.5616 -122.088  \n",
       "1            560      1977             0    98008  47.5845 -122.115  \n",
       "2              0      1964             0    98052  47.6288 -122.109  \n",
       "3              0      1937             0    98117  47.6969 -122.368  \n",
       "4            870      1978             0    98052  47.6936 -122.128  "
      ]
     },
     "execution_count": 43,
     "metadata": {},
     "output_type": "execute_result"
    }
   ],
   "source": [
    "# read the data again just in case you've lost it somewhere.....\n",
    "df = pd.read_csv('data/kc_house.csv')\n",
    "print(df.shape) # number of rows and columns\n",
    "df.head()"
   ]
  },
  {
   "cell_type": "code",
   "execution_count": 44,
   "metadata": {},
   "outputs": [
    {
     "data": {
      "text/plain": [
       "id                 0\n",
       "date               0\n",
       "price              0\n",
       "bedrooms           0\n",
       "bathrooms        151\n",
       "sqft_living        0\n",
       "sqft_lot           0\n",
       "floors             0\n",
       "waterfront         0\n",
       "view               0\n",
       "condition          0\n",
       "grade              0\n",
       "sqft_above         0\n",
       "sqft_basement      0\n",
       "yr_built           0\n",
       "yr_renovated       0\n",
       "zipcode            0\n",
       "lat                0\n",
       "long               0\n",
       "dtype: int64"
      ]
     },
     "execution_count": 44,
     "metadata": {},
     "output_type": "execute_result"
    }
   ],
   "source": [
    "df.isnull().sum()"
   ]
  },
  {
   "cell_type": "markdown",
   "metadata": {},
   "source": [
    "Let's first change values with '-' as missing in the bathroom column:"
   ]
  },
  {
   "cell_type": "code",
   "execution_count": 45,
   "metadata": {},
   "outputs": [
    {
     "data": {
      "text/plain": [
       "248"
      ]
     },
     "execution_count": 45,
     "metadata": {},
     "output_type": "execute_result"
    }
   ],
   "source": [
    "condition = df['bathrooms'] == '-'\n",
    "df.loc[condition,'bathrooms'] = None\n",
    "df['bathrooms'].isnull().sum()"
   ]
  },
  {
   "cell_type": "markdown",
   "metadata": {},
   "source": [
    "Ok, in total there are 248 values to impute. \n",
    "Let's convert bathroom to float type and see the correlation with other attributes. "
   ]
  },
  {
   "cell_type": "code",
   "execution_count": 46,
   "metadata": {},
   "outputs": [],
   "source": [
    "df['bathrooms'] = df['bathrooms'].astype(float)"
   ]
  },
  {
   "cell_type": "code",
   "execution_count": 47,
   "metadata": {},
   "outputs": [
    {
     "data": {
      "image/png": "[encoded data removed]",
      "text/plain": [
       "<Figure size 1080x720 with 2 Axes>"
      ]
     },
     "metadata": {
      "needs_background": "light"
     },
     "output_type": "display_data"
    }
   ],
   "source": [
    "correlation_heatmap(df)"
   ]
  },
  {
   "cell_type": "markdown",
   "metadata": {},
   "source": [
    "`bathrooms` seems to have strong correlation with a number of attributes: `price`, `bedrooms`,`sqft_living`, `floors`,`grade`,`sqft_above`, and `yr_built`. Let's make use these attributes to impute values of `bathrooms` using linear regression. "
   ]
  },
  {
   "cell_type": "code",
   "execution_count": 48,
   "metadata": {},
   "outputs": [
    {
     "data": {
      "text/html": [
       "<div>\n",
       "<style scoped>\n",
       "    .dataframe tbody tr th:only-of-type {\n",
       "        vertical-align: middle;\n",
       "    }\n",
       "\n",
       "    .dataframe tbody tr th {\n",
       "        vertical-align: top;\n",
       "    }\n",
       "\n",
       "    .dataframe thead th {\n",
       "        text-align: right;\n",
       "    }\n",
       "</style>\n",
       "<table border=\"1\" class=\"dataframe\">\n",
       "  <thead>\n",
       "    <tr style=\"text-align: right;\">\n",
       "      <th></th>\n",
       "      <th>bathrooms</th>\n",
       "    </tr>\n",
       "  </thead>\n",
       "  <tbody>\n",
       "    <tr>\n",
       "      <th>28</th>\n",
       "      <td>NaN</td>\n",
       "    </tr>\n",
       "    <tr>\n",
       "      <th>40</th>\n",
       "      <td>NaN</td>\n",
       "    </tr>\n",
       "    <tr>\n",
       "      <th>49</th>\n",
       "      <td>NaN</td>\n",
       "    </tr>\n",
       "    <tr>\n",
       "      <th>160</th>\n",
       "      <td>NaN</td>\n",
       "    </tr>\n",
       "    <tr>\n",
       "      <th>162</th>\n",
       "      <td>NaN</td>\n",
       "    </tr>\n",
       "    <tr>\n",
       "      <th>...</th>\n",
       "      <td>...</td>\n",
       "    </tr>\n",
       "    <tr>\n",
       "      <th>9902</th>\n",
       "      <td>NaN</td>\n",
       "    </tr>\n",
       "    <tr>\n",
       "      <th>9906</th>\n",
       "      <td>NaN</td>\n",
       "    </tr>\n",
       "    <tr>\n",
       "      <th>9944</th>\n",
       "      <td>NaN</td>\n",
       "    </tr>\n",
       "    <tr>\n",
       "      <th>9975</th>\n",
       "      <td>NaN</td>\n",
       "    </tr>\n",
       "    <tr>\n",
       "      <th>9977</th>\n",
       "      <td>NaN</td>\n",
       "    </tr>\n",
       "  </tbody>\n",
       "</table>\n",
       "<p>248 rows × 1 columns</p>\n",
       "</div>"
      ],
      "text/plain": [
       "      bathrooms\n",
       "28          NaN\n",
       "40          NaN\n",
       "49          NaN\n",
       "160         NaN\n",
       "162         NaN\n",
       "...         ...\n",
       "9902        NaN\n",
       "9906        NaN\n",
       "9944        NaN\n",
       "9975        NaN\n",
       "9977        NaN\n",
       "\n",
       "[248 rows x 1 columns]"
      ]
     },
     "execution_count": 48,
     "metadata": {},
     "output_type": "execute_result"
    }
   ],
   "source": [
    "df_missing = df.loc[df.isnull().any(axis=1), df.isnull().any()]\n",
    "df_missing"
   ]
  },
  {
   "cell_type": "code",
   "execution_count": 49,
   "metadata": {},
   "outputs": [
    {
     "data": {
      "text/plain": [
       "Int64Index([  28,   40,   49,  160,  162,  310,  352,  368,  441,  444,\n",
       "            ...\n",
       "            9666, 9673, 9728, 9792, 9803, 9902, 9906, 9944, 9975, 9977],\n",
       "           dtype='int64', length=248)"
      ]
     },
     "execution_count": 49,
     "metadata": {},
     "output_type": "execute_result"
    }
   ],
   "source": [
    "# getting the indices that contains missing values \n",
    "df_missing.index"
   ]
  },
  {
   "cell_type": "code",
   "execution_count": 50,
   "metadata": {},
   "outputs": [
    {
     "data": {
      "text/plain": [
       "[2.25,\n",
       " 3.5,\n",
       " 1.5,\n",
       " 1.0,\n",
       " 2.0,\n",
       " 2.5,\n",
       " 2.75,\n",
       " 1.75,\n",
       " 4.25,\n",
       " 3.0,\n",
       " 4.0,\n",
       " 3.25,\n",
       " 3.75,\n",
       " 0.75,\n",
       " 1.25,\n",
       " 4.5,\n",
       " 5.25,\n",
       " 0.5,\n",
       " 5.0,\n",
       " 4.75,\n",
       " 5.75,\n",
       " 6.0,\n",
       " 6.5,\n",
       " 5.5]"
      ]
     },
     "execution_count": 50,
     "metadata": {},
     "output_type": "execute_result"
    }
   ],
   "source": [
    "# create another dataframe without missing values to build the model\n",
    "df_no_nan = df.dropna(axis=0)\n",
    "bathrooms_list = df_no_nan.bathrooms.unique().tolist()\n",
    "bathrooms_list"
   ]
  },
  {
   "cell_type": "code",
   "execution_count": 51,
   "metadata": {},
   "outputs": [
    {
     "data": {
      "text/plain": [
       "LinearRegression()"
      ]
     },
     "execution_count": 51,
     "metadata": {},
     "output_type": "execute_result"
    }
   ],
   "source": [
    "from sklearn import linear_model\n",
    "# bulid a linear regression model \n",
    "cols = ['price', 'bedrooms','sqft_living', 'floors','grade','sqft_above','yr_built']\n",
    "x_train = df_no_nan[cols]\n",
    "y_train = df_no_nan['bathrooms']\n",
    "regr = linear_model.LinearRegression()\n",
    "\n",
    "regr.fit(x_train,y_train) # build the model"
   ]
  },
  {
   "cell_type": "code",
   "execution_count": 52,
   "metadata": {},
   "outputs": [],
   "source": [
    "def predict_bath(x):\n",
    "    x_predict = regr.predict([x]) # expected 2D array as input\n",
    "    return min(bathrooms_list, key=lambda y:abs(y-x_predict)) # return the nearest bathroom value\n",
    "\n",
    "# impute the missing records\n",
    "df.loc[df_missing.index,'bathrooms'] = \\\n",
    "df.loc[df_missing.index].apply(lambda row: predict_bath(row[cols]), axis = 1)"
   ]
  },
  {
   "cell_type": "code",
   "execution_count": 53,
   "metadata": {},
   "outputs": [
    {
     "data": {
      "text/plain": [
       "28      3.00\n",
       "40      2.00\n",
       "49      2.00\n",
       "160     3.25\n",
       "162     1.50\n",
       "        ... \n",
       "9902    2.25\n",
       "9906    2.25\n",
       "9944    1.00\n",
       "9975    3.00\n",
       "9977    2.00\n",
       "Name: bathrooms, Length: 248, dtype: float64"
      ]
     },
     "execution_count": 53,
     "metadata": {},
     "output_type": "execute_result"
    }
   ],
   "source": [
    "df.loc[df_missing.index,'bathrooms']"
   ]
  },
  {
   "cell_type": "markdown",
   "metadata": {},
   "source": [
    "### Task 2.5 Outliers\n",
    "In this subtask, we will contine to explore the `kc_house.csv` dataset.\n",
    "In particular, we will be looking at the `bedrooms` column. \n",
    "You are required to use graphical or non-graphical tools to audit this column, and identify whether there exist outliers in the values of this column."
   ]
  },
  {
   "cell_type": "code",
   "execution_count": 54,
   "metadata": {},
   "outputs": [
    {
     "name": "stdout",
     "output_type": "stream",
     "text": [
      "(9979, 19)\n"
     ]
    },
    {
     "data": {
      "text/html": [
       "<div>\n",
       "<style scoped>\n",
       "    .dataframe tbody tr th:only-of-type {\n",
       "        vertical-align: middle;\n",
       "    }\n",
       "\n",
       "    .dataframe tbody tr th {\n",
       "        vertical-align: top;\n",
       "    }\n",
       "\n",
       "    .dataframe thead th {\n",
       "        text-align: right;\n",
       "    }\n",
       "</style>\n",
       "<table border=\"1\" class=\"dataframe\">\n",
       "  <thead>\n",
       "    <tr style=\"text-align: right;\">\n",
       "      <th></th>\n",
       "      <th>id</th>\n",
       "      <th>date</th>\n",
       "      <th>price</th>\n",
       "      <th>bedrooms</th>\n",
       "      <th>bathrooms</th>\n",
       "      <th>sqft_living</th>\n",
       "      <th>sqft_lot</th>\n",
       "      <th>floors</th>\n",
       "      <th>waterfront</th>\n",
       "      <th>view</th>\n",
       "      <th>condition</th>\n",
       "      <th>grade</th>\n",
       "      <th>sqft_above</th>\n",
       "      <th>sqft_basement</th>\n",
       "      <th>yr_built</th>\n",
       "      <th>yr_renovated</th>\n",
       "      <th>zipcode</th>\n",
       "      <th>lat</th>\n",
       "      <th>long</th>\n",
       "    </tr>\n",
       "  </thead>\n",
       "  <tbody>\n",
       "    <tr>\n",
       "      <th>0</th>\n",
       "      <td>5437400630</td>\n",
       "      <td>20141016T000000</td>\n",
       "      <td>625000.0</td>\n",
       "      <td>4</td>\n",
       "      <td>2.25</td>\n",
       "      <td>1920</td>\n",
       "      <td>8259</td>\n",
       "      <td>2.0</td>\n",
       "      <td>0</td>\n",
       "      <td>0</td>\n",
       "      <td>4</td>\n",
       "      <td>8</td>\n",
       "      <td>1920</td>\n",
       "      <td>0</td>\n",
       "      <td>1979</td>\n",
       "      <td>0</td>\n",
       "      <td>98027</td>\n",
       "      <td>47.5616</td>\n",
       "      <td>-122.088</td>\n",
       "    </tr>\n",
       "    <tr>\n",
       "      <th>1</th>\n",
       "      <td>3999300290</td>\n",
       "      <td>20141016T000000</td>\n",
       "      <td>850000.0</td>\n",
       "      <td>3</td>\n",
       "      <td>3.5</td>\n",
       "      <td>2620</td>\n",
       "      <td>11148</td>\n",
       "      <td>2.0</td>\n",
       "      <td>0</td>\n",
       "      <td>4</td>\n",
       "      <td>4</td>\n",
       "      <td>9</td>\n",
       "      <td>2060</td>\n",
       "      <td>560</td>\n",
       "      <td>1977</td>\n",
       "      <td>0</td>\n",
       "      <td>98008</td>\n",
       "      <td>47.5845</td>\n",
       "      <td>-122.115</td>\n",
       "    </tr>\n",
       "    <tr>\n",
       "      <th>2</th>\n",
       "      <td>2525059134</td>\n",
       "      <td>20141016T000000</td>\n",
       "      <td>500000.0</td>\n",
       "      <td>2</td>\n",
       "      <td>1.5</td>\n",
       "      <td>1760</td>\n",
       "      <td>12000</td>\n",
       "      <td>1.0</td>\n",
       "      <td>0</td>\n",
       "      <td>0</td>\n",
       "      <td>4</td>\n",
       "      <td>7</td>\n",
       "      <td>1760</td>\n",
       "      <td>0</td>\n",
       "      <td>1964</td>\n",
       "      <td>0</td>\n",
       "      <td>98052</td>\n",
       "      <td>47.6288</td>\n",
       "      <td>-122.109</td>\n",
       "    </tr>\n",
       "    <tr>\n",
       "      <th>3</th>\n",
       "      <td>1862400285</td>\n",
       "      <td>20141016T000000</td>\n",
       "      <td>375000.0</td>\n",
       "      <td>3</td>\n",
       "      <td>1.0</td>\n",
       "      <td>1200</td>\n",
       "      <td>5404</td>\n",
       "      <td>1.0</td>\n",
       "      <td>0</td>\n",
       "      <td>0</td>\n",
       "      <td>3</td>\n",
       "      <td>6</td>\n",
       "      <td>1200</td>\n",
       "      <td>0</td>\n",
       "      <td>1937</td>\n",
       "      <td>0</td>\n",
       "      <td>98117</td>\n",
       "      <td>47.6969</td>\n",
       "      <td>-122.368</td>\n",
       "    </tr>\n",
       "    <tr>\n",
       "      <th>4</th>\n",
       "      <td>7199320190</td>\n",
       "      <td>20141016T000000</td>\n",
       "      <td>618000.0</td>\n",
       "      <td>4</td>\n",
       "      <td>2.25</td>\n",
       "      <td>2470</td>\n",
       "      <td>7350</td>\n",
       "      <td>1.0</td>\n",
       "      <td>0</td>\n",
       "      <td>0</td>\n",
       "      <td>3</td>\n",
       "      <td>7</td>\n",
       "      <td>1600</td>\n",
       "      <td>870</td>\n",
       "      <td>1978</td>\n",
       "      <td>0</td>\n",
       "      <td>98052</td>\n",
       "      <td>47.6936</td>\n",
       "      <td>-122.128</td>\n",
       "    </tr>\n",
       "  </tbody>\n",
       "</table>\n",
       "</div>"
      ],
      "text/plain": [
       "           id             date     price  bedrooms bathrooms  sqft_living  \\\n",
       "0  5437400630  20141016T000000  625000.0         4      2.25         1920   \n",
       "1  3999300290  20141016T000000  850000.0         3       3.5         2620   \n",
       "2  2525059134  20141016T000000  500000.0         2       1.5         1760   \n",
       "3  1862400285  20141016T000000  375000.0         3       1.0         1200   \n",
       "4  7199320190  20141016T000000  618000.0         4      2.25         2470   \n",
       "\n",
       "   sqft_lot  floors  waterfront  view  condition  grade  sqft_above  \\\n",
       "0      8259     2.0           0     0          4      8        1920   \n",
       "1     11148     2.0           0     4          4      9        2060   \n",
       "2     12000     1.0           0     0          4      7        1760   \n",
       "3      5404     1.0           0     0          3      6        1200   \n",
       "4      7350     1.0           0     0          3      7        1600   \n",
       "\n",
       "   sqft_basement  yr_built  yr_renovated  zipcode      lat     long  \n",
       "0              0      1979             0    98027  47.5616 -122.088  \n",
       "1            560      1977             0    98008  47.5845 -122.115  \n",
       "2              0      1964             0    98052  47.6288 -122.109  \n",
       "3              0      1937             0    98117  47.6969 -122.368  \n",
       "4            870      1978             0    98052  47.6936 -122.128  "
      ]
     },
     "execution_count": 54,
     "metadata": {},
     "output_type": "execute_result"
    }
   ],
   "source": [
    "# read the data again just in case you missed it somewhere.....\n",
    "df = pd.read_csv('data/kc_house.csv')\n",
    "print(df.shape) # number of rows and columns\n",
    "df.head()"
   ]
  },
  {
   "cell_type": "code",
   "execution_count": 55,
   "metadata": {},
   "outputs": [
    {
     "data": {
      "image/png": "[encoded data removed]",
      "text/plain": [
       "<Figure size 432x288 with 1 Axes>"
      ]
     },
     "metadata": {
      "needs_background": "light"
     },
     "output_type": "display_data"
    }
   ],
   "source": [
    "_,bp = df.boxplot(column='bedrooms',sym='k.',return_type='both')\n",
    "outliers = [flier.get_ydata() for flier in bp[\"fliers\"]] # extract the outlier values"
   ]
  },
  {
   "cell_type": "code",
   "execution_count": 56,
   "metadata": {},
   "outputs": [
    {
     "data": {
      "text/plain": [
       "[array([ 1,  1,  1,  1,  1,  1,  1,  1,  1,  1,  1,  1,  1,  1,  1,  1,  1,\n",
       "         1,  1,  1,  1,  1,  1,  1,  1,  1,  1,  1,  1,  1,  1,  1,  1,  1,\n",
       "         1,  1,  1,  1,  1,  1,  1,  1,  1,  1,  1,  1,  1,  1,  1,  1,  1,\n",
       "         1,  1,  1,  1,  1,  1,  1,  1,  1,  1,  1,  1,  1,  1,  1,  1,  1,\n",
       "         1,  1,  1,  1,  1,  1,  1,  1,  1,  1,  1,  1,  1,  1,  6,  6,  6,\n",
       "         6,  6,  6,  6,  6,  6,  6,  6,  6,  6,  6,  6,  6,  6,  6,  6,  6,\n",
       "         6,  6,  6,  6,  6,  6,  6,  6,  6,  6,  6,  6,  6,  6,  6,  6,  6,\n",
       "         6,  6,  6,  6,  6,  6,  6,  6,  6,  6,  6,  6,  6,  6,  6,  6,  6,\n",
       "        33,  6,  6,  6,  6,  6,  6,  6,  6,  6,  6,  6,  6,  6,  6,  6,  6,\n",
       "         6,  6,  6, 25, 48,  6,  6,  6,  6,  6,  6,  6,  6,  6,  6,  6,  6,\n",
       "         6,  6,  6,  6,  6,  6,  6,  6,  6,  6,  6,  6,  6,  6,  6,  6,  6,\n",
       "         6,  6,  6,  6,  6,  6,  6,  6,  6,  6,  6,  6,  6,  6,  6,  6,  6,\n",
       "         6,  6,  6,  6,  6,  6,  6], dtype=int64)]"
      ]
     },
     "execution_count": 56,
     "metadata": {},
     "output_type": "execute_result"
    }
   ],
   "source": [
    "outliers # display the outliers values"
   ]
  },
  {
   "cell_type": "code",
   "execution_count": 57,
   "metadata": {},
   "outputs": [
    {
     "data": {
      "text/plain": [
       "3     4631\n",
       "4     3110\n",
       "2     1305\n",
       "5      722\n",
       "6      126\n",
       "1       82\n",
       "33       1\n",
       "25       1\n",
       "48       1\n",
       "Name: bedrooms, dtype: int64"
      ]
     },
     "execution_count": 57,
     "metadata": {},
     "output_type": "execute_result"
    }
   ],
   "source": [
    "df.bedrooms.value_counts() # check the domain value of the bedrooms column"
   ]
  },
  {
   "cell_type": "code",
   "execution_count": 58,
   "metadata": {},
   "outputs": [
    {
     "data": {
      "text/plain": [
       "<AxesSubplot:title={'center':'Scatter plot'}, xlabel='sqft_living', ylabel='bedrooms'>"
      ]
     },
     "execution_count": 58,
     "metadata": {},
     "output_type": "execute_result"
    },
    {
     "data": {
      "image/png": "[encoded data removed]",
      "text/plain": [
       "<Figure size 432x288 with 1 Axes>"
      ]
     },
     "metadata": {
      "needs_background": "light"
     },
     "output_type": "display_data"
    }
   ],
   "source": [
    "df.plot.scatter(x='sqft_living', y='bedrooms', title= \"Scatter plot\") # plot a scatter plot to see the correlation between sqft_living and bedrooms"
   ]
  },
  {
   "cell_type": "code",
   "execution_count": 59,
   "metadata": {},
   "outputs": [
    {
     "data": {
      "text/plain": [
       "<AxesSubplot:title={'center':'Scatter plot'}, xlabel='price', ylabel='bedrooms'>"
      ]
     },
     "execution_count": 59,
     "metadata": {},
     "output_type": "execute_result"
    },
    {
     "data": {
      "image/png": "[encoded data removed]",
      "text/plain": [
       "<Figure size 432x288 with 1 Axes>"
      ]
     },
     "metadata": {
      "needs_background": "light"
     },
     "output_type": "display_data"
    }
   ],
   "source": [
    "df.plot.scatter(x='price', y='bedrooms', title= \"Scatter plot\") # plot a scatter plot to see the correlation between price and bedrooms"
   ]
  },
  {
   "cell_type": "code",
   "execution_count": 60,
   "metadata": {},
   "outputs": [
    {
     "data": {
      "text/plain": [
       "<AxesSubplot:title={'center':'Scatter plot'}, xlabel='grade', ylabel='bedrooms'>"
      ]
     },
     "execution_count": 60,
     "metadata": {},
     "output_type": "execute_result"
    },
    {
     "data": {
      "image/png": "[encoded data removed]",
      "text/plain": [
       "<Figure size 432x288 with 1 Axes>"
      ]
     },
     "metadata": {
      "needs_background": "light"
     },
     "output_type": "display_data"
    }
   ],
   "source": [
    "df.plot.scatter(x='grade', y='bedrooms', title= \"Scatter plot\") # plot a scatter plot to see the correlation between grade and bedrooms"
   ]
  },
  {
   "cell_type": "code",
   "execution_count": 61,
   "metadata": {},
   "outputs": [
    {
     "data": {
      "text/html": [
       "<div>\n",
       "<style scoped>\n",
       "    .dataframe tbody tr th:only-of-type {\n",
       "        vertical-align: middle;\n",
       "    }\n",
       "\n",
       "    .dataframe tbody tr th {\n",
       "        vertical-align: top;\n",
       "    }\n",
       "\n",
       "    .dataframe thead th {\n",
       "        text-align: right;\n",
       "    }\n",
       "</style>\n",
       "<table border=\"1\" class=\"dataframe\">\n",
       "  <thead>\n",
       "    <tr style=\"text-align: right;\">\n",
       "      <th></th>\n",
       "      <th>id</th>\n",
       "      <th>date</th>\n",
       "      <th>price</th>\n",
       "      <th>bedrooms</th>\n",
       "      <th>bathrooms</th>\n",
       "      <th>sqft_living</th>\n",
       "      <th>sqft_lot</th>\n",
       "      <th>floors</th>\n",
       "      <th>waterfront</th>\n",
       "      <th>view</th>\n",
       "      <th>condition</th>\n",
       "      <th>grade</th>\n",
       "      <th>sqft_above</th>\n",
       "      <th>sqft_basement</th>\n",
       "      <th>yr_built</th>\n",
       "      <th>yr_renovated</th>\n",
       "      <th>zipcode</th>\n",
       "      <th>lat</th>\n",
       "      <th>long</th>\n",
       "    </tr>\n",
       "  </thead>\n",
       "  <tbody>\n",
       "    <tr>\n",
       "      <th>4279</th>\n",
       "      <td>7148700050</td>\n",
       "      <td>20150126T000000</td>\n",
       "      <td>340000.0</td>\n",
       "      <td>33</td>\n",
       "      <td>-</td>\n",
       "      <td>2650</td>\n",
       "      <td>7378</td>\n",
       "      <td>1.0</td>\n",
       "      <td>0</td>\n",
       "      <td>0</td>\n",
       "      <td>3</td>\n",
       "      <td>7</td>\n",
       "      <td>1460</td>\n",
       "      <td>1190</td>\n",
       "      <td>1952</td>\n",
       "      <td>0</td>\n",
       "      <td>98155</td>\n",
       "      <td>47.7525</td>\n",
       "      <td>-122.315</td>\n",
       "    </tr>\n",
       "    <tr>\n",
       "      <th>5702</th>\n",
       "      <td>9542830540</td>\n",
       "      <td>20150303T000000</td>\n",
       "      <td>339950.0</td>\n",
       "      <td>25</td>\n",
       "      <td>NaN</td>\n",
       "      <td>2150</td>\n",
       "      <td>4000</td>\n",
       "      <td>2.0</td>\n",
       "      <td>0</td>\n",
       "      <td>0</td>\n",
       "      <td>3</td>\n",
       "      <td>7</td>\n",
       "      <td>2150</td>\n",
       "      <td>0</td>\n",
       "      <td>2010</td>\n",
       "      <td>0</td>\n",
       "      <td>98038</td>\n",
       "      <td>47.3655</td>\n",
       "      <td>-122.018</td>\n",
       "    </tr>\n",
       "    <tr>\n",
       "      <th>5768</th>\n",
       "      <td>5101402435</td>\n",
       "      <td>20150304T000000</td>\n",
       "      <td>539000.0</td>\n",
       "      <td>48</td>\n",
       "      <td>NaN</td>\n",
       "      <td>1540</td>\n",
       "      <td>5338</td>\n",
       "      <td>1.0</td>\n",
       "      <td>0</td>\n",
       "      <td>0</td>\n",
       "      <td>5</td>\n",
       "      <td>7</td>\n",
       "      <td>770</td>\n",
       "      <td>770</td>\n",
       "      <td>1954</td>\n",
       "      <td>0</td>\n",
       "      <td>98115</td>\n",
       "      <td>47.6942</td>\n",
       "      <td>-122.304</td>\n",
       "    </tr>\n",
       "  </tbody>\n",
       "</table>\n",
       "</div>"
      ],
      "text/plain": [
       "              id             date     price  bedrooms bathrooms  sqft_living  \\\n",
       "4279  7148700050  20150126T000000  340000.0        33         -         2650   \n",
       "5702  9542830540  20150303T000000  339950.0        25       NaN         2150   \n",
       "5768  5101402435  20150304T000000  539000.0        48       NaN         1540   \n",
       "\n",
       "      sqft_lot  floors  waterfront  view  condition  grade  sqft_above  \\\n",
       "4279      7378     1.0           0     0          3      7        1460   \n",
       "5702      4000     2.0           0     0          3      7        2150   \n",
       "5768      5338     1.0           0     0          5      7         770   \n",
       "\n",
       "      sqft_basement  yr_built  yr_renovated  zipcode      lat     long  \n",
       "4279           1190      1952             0    98155  47.7525 -122.315  \n",
       "5702              0      2010             0    98038  47.3655 -122.018  \n",
       "5768            770      1954             0    98115  47.6942 -122.304  "
      ]
     },
     "execution_count": 61,
     "metadata": {},
     "output_type": "execute_result"
    }
   ],
   "source": [
    "df[df['bedrooms']> 6] # extract all the instances with the number of bedrooms > 6"
   ]
  },
  {
   "cell_type": "markdown",
   "metadata": {},
   "source": [
    "## References\n",
    "\n",
    "[1] [Regression using sklearn on KC Housing Dataset](https://towardsdatascience.com/regression-using-sklearn-on-kc-housing-dataset-1ac80ca3d6d4)"
   ]
  },
  {
   "cell_type": "code",
   "execution_count": null,
   "metadata": {},
   "outputs": [],
   "source": []
  }
 ],
 "metadata": {
  "kernelspec": {
   "display_name": "Python 3",
   "language": "python",
   "name": "python3"
  },
  "language_info": {
   "codemirror_mode": {
    "name": "ipython",
    "version": 3
   },
   "file_extension": ".py",
   "mimetype": "text/x-python",
   "name": "python",
   "nbconvert_exporter": "python",
   "pygments_lexer": "ipython3",
   "version": "3.6.10"
  }
 },
 "nbformat": 4,
 "nbformat_minor": 4
}
