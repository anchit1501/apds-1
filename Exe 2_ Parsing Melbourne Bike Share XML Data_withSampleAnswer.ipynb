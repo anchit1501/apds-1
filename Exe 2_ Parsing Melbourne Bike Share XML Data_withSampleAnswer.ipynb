{
 "cells": [
  {
   "cell_type": "markdown",
   "metadata": {
    "collapsed": true,
    "id": "LQ_RrxBluPnj"
   },
   "source": [
    "# Parsing Melbourne Bike Share XML\n",
    "\n",
    "Ok, now let's move to the last exercise of this week. In this exercise, we are going to have some hands-on experience with XML files. \n",
    "I'm sure you are familiar with the content of the XML file we are using in this exercise, as it's our old friend, the restructured Melbourne Bike Share dataset (in XML). We will practise the process of reading and processing XML data.\n",
    "\n",
    "Before we start walking you through the rest of the session, make sure you have the following data file in the same folder as this IPython Notebook: \n",
    "* Melbourne_bike_share.xml\n",
    "\n",
    "In this session, we will walk you through the process of extracting bike hub station statistical data from *\"Melbourne_bike_share.xml\"*. Then we will produce the same Pandas DataFrame as what we did before in the two previous actvities.\n",
    "\n",
    "As usual, let's eyeball to see how the XML file looks like (I've just opened in it in Chrome, but feel free to use any of your favourite editors &#128522;):\n",
    "\n",
    "![](./img/xml.png)\n",
    "\n",
    "\n",
    "If you scroll through the opened file, you will find that the same data used in the CSV/JSON examples have been encompassed in XML syntax, using things called **tags**. The figure above shows a snippet of the data.\n",
    "\n",
    "\n",
    "After eyeballing the file, you should find that \n",
    "data values can be stored in two places in an XML file, which are:\n",
    "* in between two tags, for example, \n",
    "    ```html\n",
    "        <featurename>Harbour Town - Docklands Dve - Docklands</featurename>\n",
    "    ```\n",
    "    where the value is *\"Harbour Town - Docklands Dve - Docklands\"* for the <featurename> tag.\n",
    "* as an attribute of a tag, for example,\n",
    "    ```html\n",
    "        <coordinates human_address=\"{&quot;address&quot;:&quot;&quot;,&quot;city&quot;:&quot;&quot;\n",
    "        ,&quot;state&quot;:&quot;&quot;,&quot;zip&quot;:&quot;&quot;}\" \n",
    "        latitude=\"-37.814022\" longitude=\"144.939521\" needs_recoding=\"false\"/>\n",
    "    ```\n",
    "    where the value of latitude is *-37.814022* and longitude is *144.939521*. \n",
    "\n",
    "The attributes in XML files store rich information about a specific tag.\n",
    "Comparing XML with JSON, you will find that the XML tags and attributes hold data in \n",
    "a similar way to the JSON keys. \n",
    "The advantage of XML is that each tag in XML can hold more than one attribute, and\n",
    "more values can be stored in one node. See the *\"coordinates\"* tag above.\n",
    "\n",
    "Now, how can we extract data stored either in between tags or as an attribute?\n",
    "In the following sections, we will demonstrate the process of loading and exploring a XML file, extracting\n",
    "data from the XML file and storing the data in Pandas DataFrame.\n",
    "* * * "
   ]
  },
  {
   "cell_type": "markdown",
   "metadata": {
    "id": "xBqgzsfmuPol"
   },
   "source": [
    "## 1. Loading the XML Data\n",
    "\n",
    "In this task, we are to load the Melbourne Bike Share XML data. Please feel free to use whatever methods that you like and enjoy. "
   ]
  },
  {
   "cell_type": "markdown",
   "metadata": {
    "id": "99fwUsjiuPon"
   },
   "source": [
    "Here, we demonstrate the process using ElementTree."
   ]
  },
  {
   "cell_type": "code",
   "execution_count": 41,
   "metadata": {
    "id": "efO1Fl6duPoo"
   },
   "outputs": [],
   "source": [
    "import xml.etree.ElementTree as etree    \n",
    "tree = etree.parse(\"./Melbourne_bike_share.xml\")  "
   ]
  },
  {
   "cell_type": "markdown",
   "metadata": {
    "id": "T2FqYw7xuPoq"
   },
   "source": [
    "Now let's have a look at the `root` element."
   ]
  },
  {
   "cell_type": "code",
   "execution_count": 42,
   "metadata": {
    "id": "82qi7c8JuPoq"
   },
   "outputs": [
    {
     "data": {
      "text/plain": [
       "'response'"
      ]
     },
     "execution_count": 42,
     "metadata": {},
     "output_type": "execute_result"
    }
   ],
   "source": [
    "root = tree.getroot()     \n",
    "root.tag"
   ]
  },
  {
   "cell_type": "markdown",
   "metadata": {
    "id": "rIrSInW7uPot"
   },
   "source": [
    "As expected, the `root` element is the *\"response\"* element (see the original XML file). You can also check the number of children of the `root` element by:\n",
    "```python\n",
    "    len(root)\n",
    "```\n",
    "It will give you one (here is the `row`). \n",
    "\n",
    "Now, let's have a look at the children of the `root` element."
   ]
  },
  {
   "cell_type": "code",
   "execution_count": 43,
   "metadata": {
    "id": "kIlkmme0uPou",
    "outputId": "b343ee62-9702-43cf-8efc-b94c7cd224e1"
   },
   "outputs": [
    {
     "name": "stdout",
     "output_type": "stream",
     "text": [
      "<Element 'row' at 0x120ddcb80>\n"
     ]
    }
   ],
   "source": [
    "for child in root:\n",
    "    print(child) "
   ]
  },
  {
   "cell_type": "code",
   "execution_count": 44,
   "metadata": {
    "id": "tBxnb2opuPov",
    "outputId": "dd5d4f38-4c4b-44c5-a4fd-83aaa358b33d"
   },
   "outputs": [
    {
     "data": {
      "text/plain": [
       "<Element 'row' at 0x120ddcb80>"
      ]
     },
     "execution_count": 44,
     "metadata": {},
     "output_type": "execute_result"
    }
   ],
   "source": [
    "root[0] # retrieving the list element by indexing"
   ]
  },
  {
   "cell_type": "markdown",
   "metadata": {
    "id": "CAncKV7uuPow"
   },
   "source": [
    "We can see that the list of the `root` element only contains its direct children element. The children elements of each entry in this list are not included. \n",
    "If we want to see how many children `root[0]` has, we can do similarly as in the activities:"
   ]
  },
  {
   "cell_type": "code",
   "execution_count": 45,
   "metadata": {
    "id": "OCnFBYqzuPox",
    "outputId": "4fb3ea9f-7b9e-4abe-da2f-53eea0d5f7b1"
   },
   "outputs": [
    {
     "data": {
      "text/plain": [
       "50"
      ]
     },
     "execution_count": 45,
     "metadata": {},
     "output_type": "execute_result"
    }
   ],
   "source": [
    "len(root[0])"
   ]
  },
  {
   "cell_type": "code",
   "execution_count": 46,
   "metadata": {
    "id": "prcRzxInuPoy",
    "outputId": "bcaf24c6-f040-44d9-c6ee-b0eaebe8e797"
   },
   "outputs": [
    {
     "data": {
      "text/plain": [
       "<Element 'row' at 0x120f6cd60>"
      ]
     },
     "execution_count": 46,
     "metadata": {},
     "output_type": "execute_result"
    }
   ],
   "source": [
    "root[0][0]"
   ]
  },
  {
   "cell_type": "markdown",
   "metadata": {
    "id": "VMHoluzRuPoz"
   },
   "source": [
    "Oh~ &#128580; that was a bit confusing. \n",
    "Indeed, if we look back at the XML file, we will realise that `response` list has one element `row`, \n",
    "![xmlfolded](./img/xmlfolded.png)\n",
    "and this `row` list has 50 elements, which are all named `row` as well, although these two `row` are in different levels. \n",
    "![xmlunfolded](./img/xmlunfolded.png)\n"
   ]
  },
  {
   "cell_type": "markdown",
   "metadata": {
    "id": "3bgbo0N7uPo0"
   },
   "source": [
    "We should know that we always need to either examine the original XML file to discover the structure, or further traverse the element hierarchy by iteratively printing out all the elements and data contained therein.\n",
    "Programmatically, accessing it through indexing and/or using loops to print out the children of a node are very common methods one would take, for example:"
   ]
  },
  {
   "cell_type": "code",
   "execution_count": 47,
   "metadata": {
    "id": "V3m4rXE-uPo2",
    "outputId": "1229dca7-0269-42e7-8cbb-841e748f1738",
    "scrolled": true
   },
   "outputs": [
    {
     "name": "stdout",
     "output_type": "stream",
     "text": [
      "<Element 'row' at 0x120f6cd60>\n",
      "<Element 'row' at 0x120f6c400>\n",
      "<Element 'row' at 0x120f6c040>\n",
      "<Element 'row' at 0x120f4e7c0>\n",
      "<Element 'row' at 0x120f73180>\n",
      "<Element 'row' at 0x120f73e50>\n",
      "<Element 'row' at 0x111429c20>\n",
      "<Element 'row' at 0x11140a4a0>\n",
      "<Element 'row' at 0x120f56a90>\n",
      "<Element 'row' at 0x120f566d0>\n",
      "<Element 'row' at 0x120f56360>\n",
      "<Element 'row' at 0x120f56c20>\n",
      "<Element 'row' at 0x120f56f40>\n",
      "<Element 'row' at 0x120f601d0>\n",
      "<Element 'row' at 0x120f60450>\n",
      "<Element 'row' at 0x120f606d0>\n",
      "<Element 'row' at 0x120f60950>\n",
      "<Element 'row' at 0x120f60bd0>\n",
      "<Element 'row' at 0x120f60e50>\n",
      "<Element 'row' at 0x120f6f130>\n",
      "<Element 'row' at 0x120f6f400>\n",
      "<Element 'row' at 0x120f6f6d0>\n",
      "<Element 'row' at 0x120f6f950>\n",
      "<Element 'row' at 0x120f6fbd0>\n",
      "<Element 'row' at 0x120f6fe50>\n",
      "<Element 'row' at 0x120f7a130>\n",
      "<Element 'row' at 0x120f7a3b0>\n",
      "<Element 'row' at 0x120f7a630>\n",
      "<Element 'row' at 0x120f7a8b0>\n",
      "<Element 'row' at 0x120f7ab30>\n",
      "<Element 'row' at 0x120f7adb0>\n",
      "<Element 'row' at 0x120f63090>\n",
      "<Element 'row' at 0x120f63310>\n",
      "<Element 'row' at 0x120f63590>\n",
      "<Element 'row' at 0x120f63810>\n",
      "<Element 'row' at 0x120f63a90>\n",
      "<Element 'row' at 0x120f63d10>\n",
      "<Element 'row' at 0x120f63f90>\n",
      "<Element 'row' at 0x120f702c0>\n",
      "<Element 'row' at 0x120f70540>\n",
      "<Element 'row' at 0x120f707c0>\n",
      "<Element 'row' at 0x120f70a40>\n",
      "<Element 'row' at 0x120f70cc0>\n",
      "<Element 'row' at 0x120f70f90>\n",
      "<Element 'row' at 0x120f7c270>\n",
      "<Element 'row' at 0x120f7c540>\n",
      "<Element 'row' at 0x120f7c810>\n",
      "<Element 'row' at 0x120f7ca90>\n",
      "<Element 'row' at 0x120f7cd10>\n",
      "<Element 'row' at 0x120f7cf90>\n"
     ]
    }
   ],
   "source": [
    "for child in root[0]:\n",
    "    print(child)"
   ]
  },
  {
   "cell_type": "code",
   "execution_count": 48,
   "metadata": {
    "id": "-O0kZSKsuPo3",
    "outputId": "fdfc31ea-73fa-42d1-f1f4-f4123058bea5"
   },
   "outputs": [
    {
     "name": "stdout",
     "output_type": "stream",
     "text": [
      "<Element 'id' at 0x120f6cb30>\n",
      "<Element 'featurename' at 0x120f6cea0>\n",
      "<Element 'terminalname' at 0x120f6c9f0>\n",
      "<Element 'nbbikes' at 0x120f6c950>\n",
      "<Element 'nbemptydoc' at 0x120f6cd10>\n",
      "<Element 'uploaddate' at 0x120f6ccc0>\n",
      "<Element 'coordinates' at 0x120f6ca40>\n"
     ]
    }
   ],
   "source": [
    "for child in root[0][0]:\n",
    "    print(child)"
   ]
  },
  {
   "cell_type": "markdown",
   "metadata": {
    "id": "Hixx9vrhuPo4"
   },
   "source": [
    "Above, we retrieve the children of `root[0][0]` and that should correspond to the first record."
   ]
  },
  {
   "cell_type": "markdown",
   "metadata": {
    "id": "136nMsu-uPo5"
   },
   "source": [
    "Fortunately, the tags of the retrieved child elements correspond to the column heads of the CSV file we worked with before (though, all in lower case).\n",
    "Thus, all the tags storing the data we want have been found. \n",
    "To confirm it, you can inspect the original XML file. \n"
   ]
  },
  {
   "cell_type": "markdown",
   "metadata": {
    "id": "NMJ39DJcuPo6"
   },
   "source": [
    "## 2. Extracting XML Data into Pandas DataFrame\n",
    "So far we have loaded XML into an element tree and have also found all the tags that contain the data we want. \n",
    "In this task, we are going to extract the records in XML and store them into Pandas DataFrame, as we always do :)"
   ]
  },
  {
   "cell_type": "code",
   "execution_count": 49,
   "metadata": {
    "id": "31C108ZkuPo6",
    "outputId": "df001913-a3e3-44bc-aa5a-d234eb16ca16"
   },
   "outputs": [
    {
     "data": {
      "text/plain": [
       "50"
      ]
     },
     "execution_count": 49,
     "metadata": {},
     "output_type": "execute_result"
    }
   ],
   "source": [
    "len(root[0])"
   ]
  },
  {
   "cell_type": "markdown",
   "metadata": {
    "id": "8ls-P4Y_uPpA"
   },
   "source": [
    "Remember `root[0]` correspoind to the outer `row` element. As shown above, it contains 50 children `row` element, each contains the attributes we need to parse. \n",
    "To pull out the data, we can access the element properties: `tag`, `attrib` and `text`."
   ]
  },
  {
   "cell_type": "markdown",
   "metadata": {
    "id": "yKGFYH4uuPpC"
   },
   "source": [
    "Below we create a data dictionary `dataDict`, with keys equal to the tags name: 'featurename','id','terminalname','nbbikes','nbemptydoc',and 'uploaddate', the value of each will be use to store a list of text values corresponds to those tags. \n",
    "It also contains two keys 'lat' and 'lon' each will be use to store a list of the latitude and longtitude information. "
   ]
  },
  {
   "cell_type": "code",
   "execution_count": 50,
   "metadata": {},
   "outputs": [],
   "source": [
    "import pandas as pd\n",
    "# initialise all the fields to be an empty list\n",
    "dataDict = {}\n",
    "dataDict['featurename'] = []\n",
    "dataDict['id'] = []\n",
    "dataDict['terminalname'] = []\n",
    "dataDict['nbbikes'] = []\n",
    "dataDict['nbemptydoc'] = []\n",
    "dataDict['uploaddate'] = []\n",
    "dataDict['lat'] = []\n",
    "dataDict['lon'] = []"
   ]
  },
  {
   "cell_type": "markdown",
   "metadata": {},
   "source": [
    "Then, we can loop through the outer `row` element, for each child `row`, we again, loop through the child element, and parse the data accordingly. \n",
    "\n",
    "For 'featurename','id','terminalname','nbbikes','nbemptydoc',and 'uploaddate', we only need to append the text value to the list accordinly. \n",
    "\n",
    "As mentioned in the introduction section, latitudes and longitudes\n",
    "are stored as attributes in the '*coordinates*' elements. \n",
    "Extracting them we need to access specific attributes that corresponds\n",
    "to latitude and longitude.\n",
    "Recall that attributes are dictionaries. \n",
    "To extract a specific attribute value, you can use the \n",
    "square brackets along with the attribute name as the key to obtain\n",
    "its value."
   ]
  },
  {
   "cell_type": "code",
   "execution_count": 51,
   "metadata": {},
   "outputs": [],
   "source": [
    "for child in root[0]: # for each row element\n",
    "    for gc in child: # for each tag in each row element\n",
    "        if (gc.tag != 'coordinates'):\n",
    "            dataDict[gc.tag].append(gc.text)\n",
    "        else: # if grand child's tag is coordinates, we need to retrive the attribute values\n",
    "            dataDict['lat'].append(gc.attrib['latitude'])\n",
    "            dataDict['lon'].append(gc.attrib['longitude'])        "
   ]
  },
  {
   "cell_type": "markdown",
   "metadata": {},
   "source": [
    "The last step is to store the extracted data into Pandas DataFrame. There are multiple ways of constructing a DataFrame object. Here you are going to generate a DataFrame by passing a Python dictionary to DataFrame's constructor and setting the index to id."
   ]
  },
  {
   "cell_type": "code",
   "execution_count": 52,
   "metadata": {},
   "outputs": [
    {
     "data": {
      "text/html": [
       "<div>\n",
       "<style scoped>\n",
       "    .dataframe tbody tr th:only-of-type {\n",
       "        vertical-align: middle;\n",
       "    }\n",
       "\n",
       "    .dataframe tbody tr th {\n",
       "        vertical-align: top;\n",
       "    }\n",
       "\n",
       "    .dataframe thead th {\n",
       "        text-align: right;\n",
       "    }\n",
       "</style>\n",
       "<table border=\"1\" class=\"dataframe\">\n",
       "  <thead>\n",
       "    <tr style=\"text-align: right;\">\n",
       "      <th></th>\n",
       "      <th>Featurename</th>\n",
       "      <th>TerminalName</th>\n",
       "      <th>NBBikes</th>\n",
       "      <th>NBEmptydoc</th>\n",
       "      <th>UploadDate</th>\n",
       "      <th>Latitude</th>\n",
       "      <th>Longitude</th>\n",
       "    </tr>\n",
       "    <tr>\n",
       "      <th>ID</th>\n",
       "      <th></th>\n",
       "      <th></th>\n",
       "      <th></th>\n",
       "      <th></th>\n",
       "      <th></th>\n",
       "      <th></th>\n",
       "      <th></th>\n",
       "    </tr>\n",
       "  </thead>\n",
       "  <tbody>\n",
       "    <tr>\n",
       "      <th>2</th>\n",
       "      <td>Harbour Town - Docklands Dve - Docklands</td>\n",
       "      <td>60000</td>\n",
       "      <td>9</td>\n",
       "      <td>14</td>\n",
       "      <td>1453986006</td>\n",
       "      <td>-37.814022</td>\n",
       "      <td>144.939521</td>\n",
       "    </tr>\n",
       "    <tr>\n",
       "      <th>4</th>\n",
       "      <td>Federation Square - Flinders St / Swanston St ...</td>\n",
       "      <td>60001</td>\n",
       "      <td>15</td>\n",
       "      <td>7</td>\n",
       "      <td>1453986006</td>\n",
       "      <td>-37.817523</td>\n",
       "      <td>144.967814</td>\n",
       "    </tr>\n",
       "    <tr>\n",
       "      <th>5</th>\n",
       "      <td>Plum Garland Reserve - Beaconsfield Pde - Albe...</td>\n",
       "      <td>60002</td>\n",
       "      <td>16</td>\n",
       "      <td>1</td>\n",
       "      <td>1453986006</td>\n",
       "      <td>-37.84782</td>\n",
       "      <td>144.948196</td>\n",
       "    </tr>\n",
       "    <tr>\n",
       "      <th>6</th>\n",
       "      <td>State Library - Swanston St / Little Lonsdale ...</td>\n",
       "      <td>60003</td>\n",
       "      <td>9</td>\n",
       "      <td>2</td>\n",
       "      <td>1453986006</td>\n",
       "      <td>-37.810702</td>\n",
       "      <td>144.964417</td>\n",
       "    </tr>\n",
       "    <tr>\n",
       "      <th>7</th>\n",
       "      <td>Bourke Street Mall - 205 Bourke St - City</td>\n",
       "      <td>60004</td>\n",
       "      <td>10</td>\n",
       "      <td>1</td>\n",
       "      <td>1453986006</td>\n",
       "      <td>-37.813088</td>\n",
       "      <td>144.967437</td>\n",
       "    </tr>\n",
       "  </tbody>\n",
       "</table>\n",
       "</div>"
      ],
      "text/plain": [
       "                                          Featurename TerminalName NBBikes  \\\n",
       "ID                                                                           \n",
       "2            Harbour Town - Docklands Dve - Docklands        60000       9   \n",
       "4   Federation Square - Flinders St / Swanston St ...        60001      15   \n",
       "5   Plum Garland Reserve - Beaconsfield Pde - Albe...        60002      16   \n",
       "6   State Library - Swanston St / Little Lonsdale ...        60003       9   \n",
       "7           Bourke Street Mall - 205 Bourke St - City        60004      10   \n",
       "\n",
       "   NBEmptydoc  UploadDate    Latitude   Longitude  \n",
       "ID                                                 \n",
       "2          14  1453986006  -37.814022  144.939521  \n",
       "4           7  1453986006  -37.817523  144.967814  \n",
       "5           1  1453986006   -37.84782  144.948196  \n",
       "6           2  1453986006  -37.810702  144.964417  \n",
       "7           1  1453986006  -37.813088  144.967437  "
      ]
     },
     "execution_count": 52,
     "metadata": {},
     "output_type": "execute_result"
    }
   ],
   "source": [
    "df = pd.DataFrame(dataDict,index = dataDict['id'])\n",
    "\n",
    "# rename the columns\n",
    "df.rename(columns = {'featurename':'Featurename','id':'ID','terminalname':'TerminalName',\\\n",
    "                     'nbbikes':'NBBikes','nbemptydoc':'NBEmptydoc','uploaddate':'UploadDate',\\\n",
    "                     'lat':'Latitude','lon':'Longitude'},inplace = True)\n",
    "\n",
    "df.index.name = 'ID'\n",
    "del df['ID'] # delete the extra ID column\n",
    "df.head()"
   ]
  },
  {
   "cell_type": "markdown",
   "metadata": {
    "id": "GFerXXYruPpR"
   },
   "source": [
    "Yay! Hero~ Give yourself some &#128079;&#128079;&#128079;"
   ]
  }
 ],
 "metadata": {
  "colab": {
   "collapsed_sections": [],
   "name": "Exe 2_ Parsing Melbourne Bike Share XML Data.ipynb",
   "provenance": []
  },
  "kernelspec": {
   "display_name": "Python 3",
   "language": "python",
   "name": "python3"
  },
  "language_info": {
   "codemirror_mode": {
    "name": "ipython",
    "version": 3
   },
   "file_extension": ".py",
   "mimetype": "text/x-python",
   "name": "python",
   "nbconvert_exporter": "python",
   "pygments_lexer": "ipython3",
   "version": "3.8.5"
  },
  "name": "3. Parsing XML files.ipynb"
 },
 "nbformat": 4,
 "nbformat_minor": 1
}
